{
 "cells": [
  {
   "cell_type": "code",
   "execution_count": 7,
   "metadata": {
    "_cell_guid": "688d0a08-7bd2-47fc-a5db-32a6417c79fe",
    "_kg_hide-output": true,
    "_uuid": "e337bb4f-6ba9-4d17-983c-8830ff227d93",
    "tags": []
   },
   "outputs": [
    {
     "data": {
      "application/javascript": [
       "\n",
       "            setTimeout(function() {\n",
       "                var nbb_cell_id = 7;\n",
       "                var nbb_unformatted_code = \"# This Python 3 environment comes with many helpful analytics libraries installed\\n# It is defined by the kaggle/python Docker image: https://github.com/kaggle/docker-python\\n# For example, here's several helpful packages to load\\n\\nimport numpy as np # linear algebra\\nimport pandas as pd # data processing, CSV file I/O (e.g. pd.read_csv)\\n\\n# Input data files are available in the read-only \\\"../input/\\\" directory\\n# For example, running this (by clicking run or pressing Shift+Enter) will list all files under the input directory\\n\\nimport os\\nfor dirname, _, filenames in os.walk('/kaggle/input'):\\n    for filename in filenames:\\n        print(os.path.join(dirname, filename))\\n\\n# You can write up to 20GB to the current directory (/kaggle/working/) that gets preserved as output when you create a version using \\\"Save & Run All\\\" \\n# You can also write temporary files to /kaggle/temp/, but they won't be saved outside of the current session\";\n",
       "                var nbb_formatted_code = \"# This Python 3 environment comes with many helpful analytics libraries installed\\n# It is defined by the kaggle/python Docker image: https://github.com/kaggle/docker-python\\n# For example, here's several helpful packages to load\\n\\nimport numpy as np  # linear algebra\\nimport pandas as pd  # data processing, CSV file I/O (e.g. pd.read_csv)\\n\\n# Input data files are available in the read-only \\\"../input/\\\" directory\\n# For example, running this (by clicking run or pressing Shift+Enter) will list all files under the input directory\\n\\nimport os\\n\\nfor dirname, _, filenames in os.walk(\\\"/kaggle/input\\\"):\\n    for filename in filenames:\\n        print(os.path.join(dirname, filename))\\n\\n# You can write up to 20GB to the current directory (/kaggle/working/) that gets preserved as output when you create a version using \\\"Save & Run All\\\"\\n# You can also write temporary files to /kaggle/temp/, but they won't be saved outside of the current session\";\n",
       "                var nbb_cells = Jupyter.notebook.get_cells();\n",
       "                for (var i = 0; i < nbb_cells.length; ++i) {\n",
       "                    if (nbb_cells[i].input_prompt_number == nbb_cell_id) {\n",
       "                        if (nbb_cells[i].get_text() == nbb_unformatted_code) {\n",
       "                             nbb_cells[i].set_text(nbb_formatted_code);\n",
       "                        }\n",
       "                        break;\n",
       "                    }\n",
       "                }\n",
       "            }, 500);\n",
       "            "
      ],
      "text/plain": [
       "<IPython.core.display.Javascript object>"
      ]
     },
     "metadata": {},
     "output_type": "display_data"
    }
   ],
   "source": [
    "# This Python 3 environment comes with many helpful analytics libraries installed\n",
    "# It is defined by the kaggle/python Docker image: https://github.com/kaggle/docker-python\n",
    "# For example, here's several helpful packages to load\n",
    "\n",
    "import numpy as np # linear algebra\n",
    "import pandas as pd # data processing, CSV file I/O (e.g. pd.read_csv)\n",
    "\n",
    "# Input data files are available in the read-only \"../input/\" directory\n",
    "# For example, running this (by clicking run or pressing Shift+Enter) will list all files under the input directory\n",
    "\n",
    "import os\n",
    "for dirname, _, filenames in os.walk('/kaggle/input'):\n",
    "    for filename in filenames:\n",
    "        print(os.path.join(dirname, filename))\n",
    "\n",
    "# You can write up to 20GB to the current directory (/kaggle/working/) that gets preserved as output when you create a version using \"Save & Run All\" \n",
    "# You can also write temporary files to /kaggle/temp/, but they won't be saved outside of the current session"
   ]
  },
  {
   "cell_type": "markdown",
   "metadata": {
    "_cell_guid": "3fc9391b-6745-4e79-ae0e-65303b11b6a0",
    "_uuid": "77189353-cc70-4070-936d-306af35cb3a1"
   },
   "source": [
    "## Arranging Libraries"
   ]
  },
  {
   "cell_type": "code",
   "execution_count": 8,
   "metadata": {
    "_cell_guid": "eda34bd4-0fd6-42df-8f38-088bc310cac3",
    "_uuid": "8b0fa152-f0a3-479e-98fc-ba33250f44fa",
    "collapsed": false,
    "jupyter": {
     "outputs_hidden": false
    }
   },
   "outputs": [
    {
     "name": "stdout",
     "output_type": "stream",
     "text": [
      "Requirement already satisfied: nb_black in /Users/dzhakhongirsaidmuradov/opt/anaconda3/lib/python3.9/site-packages (1.0.7)\n",
      "Requirement already satisfied: black>='19.3' in /Users/dzhakhongirsaidmuradov/opt/anaconda3/lib/python3.9/site-packages (from nb_black) (22.6.0)\n",
      "Requirement already satisfied: ipython in /Users/dzhakhongirsaidmuradov/opt/anaconda3/lib/python3.9/site-packages (from nb_black) (8.6.0)\n",
      "Requirement already satisfied: mypy-extensions>=0.4.3 in /Users/dzhakhongirsaidmuradov/opt/anaconda3/lib/python3.9/site-packages (from black>='19.3'->nb_black) (0.4.3)\n",
      "Requirement already satisfied: pathspec>=0.9.0 in /Users/dzhakhongirsaidmuradov/opt/anaconda3/lib/python3.9/site-packages (from black>='19.3'->nb_black) (0.9.0)\n",
      "Requirement already satisfied: tomli>=1.1.0 in /Users/dzhakhongirsaidmuradov/opt/anaconda3/lib/python3.9/site-packages (from black>='19.3'->nb_black) (2.0.1)\n",
      "Requirement already satisfied: typing-extensions>=3.10.0.0 in /Users/dzhakhongirsaidmuradov/opt/anaconda3/lib/python3.9/site-packages (from black>='19.3'->nb_black) (4.3.0)\n",
      "Requirement already satisfied: click>=8.0.0 in /Users/dzhakhongirsaidmuradov/opt/anaconda3/lib/python3.9/site-packages (from black>='19.3'->nb_black) (8.0.4)\n",
      "Requirement already satisfied: platformdirs>=2 in /Users/dzhakhongirsaidmuradov/opt/anaconda3/lib/python3.9/site-packages (from black>='19.3'->nb_black) (2.5.2)\n",
      "Requirement already satisfied: backcall in /Users/dzhakhongirsaidmuradov/opt/anaconda3/lib/python3.9/site-packages (from ipython->nb_black) (0.2.0)\n",
      "Requirement already satisfied: pickleshare in /Users/dzhakhongirsaidmuradov/opt/anaconda3/lib/python3.9/site-packages (from ipython->nb_black) (0.7.5)\n",
      "Requirement already satisfied: pygments>=2.4.0 in /Users/dzhakhongirsaidmuradov/opt/anaconda3/lib/python3.9/site-packages (from ipython->nb_black) (2.11.2)\n",
      "Requirement already satisfied: pexpect>4.3 in /Users/dzhakhongirsaidmuradov/opt/anaconda3/lib/python3.9/site-packages (from ipython->nb_black) (4.8.0)\n",
      "Requirement already satisfied: matplotlib-inline in /Users/dzhakhongirsaidmuradov/opt/anaconda3/lib/python3.9/site-packages (from ipython->nb_black) (0.1.6)\n",
      "Requirement already satisfied: prompt-toolkit<3.1.0,>3.0.1 in /Users/dzhakhongirsaidmuradov/opt/anaconda3/lib/python3.9/site-packages (from ipython->nb_black) (3.0.20)\n",
      "Requirement already satisfied: stack-data in /Users/dzhakhongirsaidmuradov/opt/anaconda3/lib/python3.9/site-packages (from ipython->nb_black) (0.2.0)\n",
      "Requirement already satisfied: jedi>=0.16 in /Users/dzhakhongirsaidmuradov/opt/anaconda3/lib/python3.9/site-packages (from ipython->nb_black) (0.18.1)\n",
      "Requirement already satisfied: decorator in /Users/dzhakhongirsaidmuradov/opt/anaconda3/lib/python3.9/site-packages (from ipython->nb_black) (5.1.1)\n",
      "Requirement already satisfied: appnope in /Users/dzhakhongirsaidmuradov/opt/anaconda3/lib/python3.9/site-packages (from ipython->nb_black) (0.1.2)\n",
      "Requirement already satisfied: traitlets>=5 in /Users/dzhakhongirsaidmuradov/opt/anaconda3/lib/python3.9/site-packages (from ipython->nb_black) (5.1.1)\n",
      "Requirement already satisfied: parso<0.9.0,>=0.8.0 in /Users/dzhakhongirsaidmuradov/opt/anaconda3/lib/python3.9/site-packages (from jedi>=0.16->ipython->nb_black) (0.8.3)\n",
      "Requirement already satisfied: ptyprocess>=0.5 in /Users/dzhakhongirsaidmuradov/opt/anaconda3/lib/python3.9/site-packages (from pexpect>4.3->ipython->nb_black) (0.7.0)\n",
      "Requirement already satisfied: wcwidth in /Users/dzhakhongirsaidmuradov/opt/anaconda3/lib/python3.9/site-packages (from prompt-toolkit<3.1.0,>3.0.1->ipython->nb_black) (0.2.5)\n",
      "Requirement already satisfied: executing in /Users/dzhakhongirsaidmuradov/opt/anaconda3/lib/python3.9/site-packages (from stack-data->ipython->nb_black) (0.8.3)\n",
      "Requirement already satisfied: asttokens in /Users/dzhakhongirsaidmuradov/opt/anaconda3/lib/python3.9/site-packages (from stack-data->ipython->nb_black) (2.0.5)\n",
      "Requirement already satisfied: pure-eval in /Users/dzhakhongirsaidmuradov/opt/anaconda3/lib/python3.9/site-packages (from stack-data->ipython->nb_black) (0.2.2)\n",
      "Requirement already satisfied: six in /Users/dzhakhongirsaidmuradov/opt/anaconda3/lib/python3.9/site-packages (from asttokens->stack-data->ipython->nb_black) (1.16.0)\n",
      "\n",
      "\u001b[1m[\u001b[0m\u001b[34;49mnotice\u001b[0m\u001b[1;39;49m]\u001b[0m\u001b[39;49m A new release of pip available: \u001b[0m\u001b[31;49m22.3\u001b[0m\u001b[39;49m -> \u001b[0m\u001b[32;49m22.3.1\u001b[0m\n",
      "\u001b[1m[\u001b[0m\u001b[34;49mnotice\u001b[0m\u001b[1;39;49m]\u001b[0m\u001b[39;49m To update, run: \u001b[0m\u001b[32;49mpip install --upgrade pip\u001b[0m\n"
     ]
    },
    {
     "data": {
      "application/javascript": [
       "\n",
       "            setTimeout(function() {\n",
       "                var nbb_cell_id = 8;\n",
       "                var nbb_unformatted_code = \"! pip install nb_black   ## Code Beautifier\";\n",
       "                var nbb_formatted_code = \"! pip install nb_black   ## Code Beautifier\";\n",
       "                var nbb_cells = Jupyter.notebook.get_cells();\n",
       "                for (var i = 0; i < nbb_cells.length; ++i) {\n",
       "                    if (nbb_cells[i].input_prompt_number == nbb_cell_id) {\n",
       "                        if (nbb_cells[i].get_text() == nbb_unformatted_code) {\n",
       "                             nbb_cells[i].set_text(nbb_formatted_code);\n",
       "                        }\n",
       "                        break;\n",
       "                    }\n",
       "                }\n",
       "            }, 500);\n",
       "            "
      ],
      "text/plain": [
       "<IPython.core.display.Javascript object>"
      ]
     },
     "metadata": {},
     "output_type": "display_data"
    }
   ],
   "source": [
    "! pip install nb_black   ## Code Beautifier"
   ]
  },
  {
   "cell_type": "code",
   "execution_count": 3,
   "metadata": {
    "_cell_guid": "3f5a8715-73ba-4b23-99d7-1bde562ae45f",
    "_uuid": "6ef4d2c8-13e3-4901-8481-17b3fdb2d8fa",
    "collapsed": false,
    "jupyter": {
     "outputs_hidden": false
    }
   },
   "outputs": [
    {
     "data": {
      "application/javascript": [
       "\n",
       "            setTimeout(function() {\n",
       "                var nbb_cell_id = 3;\n",
       "                var nbb_unformatted_code = \"%load_ext nb_black\";\n",
       "                var nbb_formatted_code = \"%load_ext nb_black\";\n",
       "                var nbb_cells = Jupyter.notebook.get_cells();\n",
       "                for (var i = 0; i < nbb_cells.length; ++i) {\n",
       "                    if (nbb_cells[i].input_prompt_number == nbb_cell_id) {\n",
       "                        if (nbb_cells[i].get_text() == nbb_unformatted_code) {\n",
       "                             nbb_cells[i].set_text(nbb_formatted_code);\n",
       "                        }\n",
       "                        break;\n",
       "                    }\n",
       "                }\n",
       "            }, 500);\n",
       "            "
      ],
      "text/plain": [
       "<IPython.core.display.Javascript object>"
      ]
     },
     "metadata": {},
     "output_type": "display_data"
    }
   ],
   "source": [
    "%load_ext nb_black"
   ]
  },
  {
   "cell_type": "code",
   "execution_count": 4,
   "metadata": {
    "_cell_guid": "19a033ab-86f1-4ff1-82d5-7d3b98d2a7ce",
    "_uuid": "2d6b0e7f-aab0-41b8-b6d1-af0b121fb476",
    "collapsed": false,
    "jupyter": {
     "outputs_hidden": false
    }
   },
   "outputs": [
    {
     "ename": "OptionError",
     "evalue": "'Pattern matched multiple keys'",
     "output_type": "error",
     "traceback": [
      "\u001b[0;31m---------------------------------------------------------------------------\u001b[0m",
      "\u001b[0;31mOptionError\u001b[0m                               Traceback (most recent call last)",
      "Cell \u001b[0;32mIn [4], line 1\u001b[0m\n\u001b[0;32m----> 1\u001b[0m \u001b[43mpd\u001b[49m\u001b[38;5;241;43m.\u001b[39;49m\u001b[43mset_option\u001b[49m\u001b[43m(\u001b[49m\u001b[38;5;124;43m'\u001b[39;49m\u001b[38;5;124;43mmax_columns\u001b[39;49m\u001b[38;5;124;43m'\u001b[39;49m\u001b[43m,\u001b[49m\u001b[38;5;28;43;01mNone\u001b[39;49;00m\u001b[43m)\u001b[49m\n",
      "File \u001b[0;32m~/opt/anaconda3/lib/python3.9/site-packages/pandas/_config/config.py:256\u001b[0m, in \u001b[0;36mCallableDynamicDoc.__call__\u001b[0;34m(self, *args, **kwds)\u001b[0m\n\u001b[1;32m    255\u001b[0m \u001b[38;5;28;01mdef\u001b[39;00m \u001b[38;5;21m__call__\u001b[39m(\u001b[38;5;28mself\u001b[39m, \u001b[38;5;241m*\u001b[39margs, \u001b[38;5;241m*\u001b[39m\u001b[38;5;241m*\u001b[39mkwds):\n\u001b[0;32m--> 256\u001b[0m     \u001b[38;5;28;01mreturn\u001b[39;00m \u001b[38;5;28;43mself\u001b[39;49m\u001b[38;5;241;43m.\u001b[39;49m\u001b[38;5;18;43m__func__\u001b[39;49m\u001b[43m(\u001b[49m\u001b[38;5;241;43m*\u001b[39;49m\u001b[43margs\u001b[49m\u001b[43m,\u001b[49m\u001b[43m \u001b[49m\u001b[38;5;241;43m*\u001b[39;49m\u001b[38;5;241;43m*\u001b[39;49m\u001b[43mkwds\u001b[49m\u001b[43m)\u001b[49m\n",
      "File \u001b[0;32m~/opt/anaconda3/lib/python3.9/site-packages/pandas/_config/config.py:149\u001b[0m, in \u001b[0;36m_set_option\u001b[0;34m(*args, **kwargs)\u001b[0m\n\u001b[1;32m    146\u001b[0m     \u001b[38;5;28;01mraise\u001b[39;00m \u001b[38;5;167;01mTypeError\u001b[39;00m(\u001b[38;5;124mf\u001b[39m\u001b[38;5;124m'\u001b[39m\u001b[38;5;124m_set_option() got an unexpected keyword argument \u001b[39m\u001b[38;5;124m\"\u001b[39m\u001b[38;5;132;01m{\u001b[39;00mkwarg\u001b[38;5;132;01m}\u001b[39;00m\u001b[38;5;124m\"\u001b[39m\u001b[38;5;124m'\u001b[39m)\n\u001b[1;32m    148\u001b[0m \u001b[38;5;28;01mfor\u001b[39;00m k, v \u001b[38;5;129;01min\u001b[39;00m \u001b[38;5;28mzip\u001b[39m(args[::\u001b[38;5;241m2\u001b[39m], args[\u001b[38;5;241m1\u001b[39m::\u001b[38;5;241m2\u001b[39m]):\n\u001b[0;32m--> 149\u001b[0m     key \u001b[38;5;241m=\u001b[39m \u001b[43m_get_single_key\u001b[49m\u001b[43m(\u001b[49m\u001b[43mk\u001b[49m\u001b[43m,\u001b[49m\u001b[43m \u001b[49m\u001b[43msilent\u001b[49m\u001b[43m)\u001b[49m\n\u001b[1;32m    151\u001b[0m     o \u001b[38;5;241m=\u001b[39m _get_registered_option(key)\n\u001b[1;32m    152\u001b[0m     \u001b[38;5;28;01mif\u001b[39;00m o \u001b[38;5;129;01mand\u001b[39;00m o\u001b[38;5;241m.\u001b[39mvalidator:\n",
      "File \u001b[0;32m~/opt/anaconda3/lib/python3.9/site-packages/pandas/_config/config.py:116\u001b[0m, in \u001b[0;36m_get_single_key\u001b[0;34m(pat, silent)\u001b[0m\n\u001b[1;32m    114\u001b[0m     \u001b[38;5;28;01mraise\u001b[39;00m OptionError(\u001b[38;5;124mf\u001b[39m\u001b[38;5;124m\"\u001b[39m\u001b[38;5;124mNo such keys(s): \u001b[39m\u001b[38;5;132;01m{\u001b[39;00m\u001b[38;5;28mrepr\u001b[39m(pat)\u001b[38;5;132;01m}\u001b[39;00m\u001b[38;5;124m\"\u001b[39m)\n\u001b[1;32m    115\u001b[0m \u001b[38;5;28;01mif\u001b[39;00m \u001b[38;5;28mlen\u001b[39m(keys) \u001b[38;5;241m>\u001b[39m \u001b[38;5;241m1\u001b[39m:\n\u001b[0;32m--> 116\u001b[0m     \u001b[38;5;28;01mraise\u001b[39;00m OptionError(\u001b[38;5;124m\"\u001b[39m\u001b[38;5;124mPattern matched multiple keys\u001b[39m\u001b[38;5;124m\"\u001b[39m)\n\u001b[1;32m    117\u001b[0m key \u001b[38;5;241m=\u001b[39m keys[\u001b[38;5;241m0\u001b[39m]\n\u001b[1;32m    119\u001b[0m \u001b[38;5;28;01mif\u001b[39;00m \u001b[38;5;129;01mnot\u001b[39;00m silent:\n",
      "\u001b[0;31mOptionError\u001b[0m: 'Pattern matched multiple keys'"
     ]
    },
    {
     "data": {
      "application/javascript": [
       "\n",
       "            setTimeout(function() {\n",
       "                var nbb_cell_id = 4;\n",
       "                var nbb_unformatted_code = \"pd.set_option('max_columns',None)  ### To see each column on data\";\n",
       "                var nbb_formatted_code = \"pd.set_option(\\\"max_columns\\\", None)  ### To see each column on data\";\n",
       "                var nbb_cells = Jupyter.notebook.get_cells();\n",
       "                for (var i = 0; i < nbb_cells.length; ++i) {\n",
       "                    if (nbb_cells[i].input_prompt_number == nbb_cell_id) {\n",
       "                        if (nbb_cells[i].get_text() == nbb_unformatted_code) {\n",
       "                             nbb_cells[i].set_text(nbb_formatted_code);\n",
       "                        }\n",
       "                        break;\n",
       "                    }\n",
       "                }\n",
       "            }, 500);\n",
       "            "
      ],
      "text/plain": [
       "<IPython.core.display.Javascript object>"
      ]
     },
     "metadata": {},
     "output_type": "display_data"
    }
   ],
   "source": [
    "pd.set_option('max_columns',None)  ### To see each column on data"
   ]
  },
  {
   "cell_type": "code",
   "execution_count": 5,
   "metadata": {
    "_cell_guid": "2338ea9f-ffc8-4fb4-b7a7-7921eb610190",
    "_uuid": "f7684c77-fb9c-4239-9ff4-1feabafe0c9d",
    "collapsed": false,
    "jupyter": {
     "outputs_hidden": false
    }
   },
   "outputs": [
    {
     "data": {
      "application/javascript": [
       "\n",
       "            setTimeout(function() {\n",
       "                var nbb_cell_id = 5;\n",
       "                var nbb_unformatted_code = \"import seaborn as sns \\nimport matplotlib.pyplot as plt\";\n",
       "                var nbb_formatted_code = \"import seaborn as sns\\nimport matplotlib.pyplot as plt\";\n",
       "                var nbb_cells = Jupyter.notebook.get_cells();\n",
       "                for (var i = 0; i < nbb_cells.length; ++i) {\n",
       "                    if (nbb_cells[i].input_prompt_number == nbb_cell_id) {\n",
       "                        if (nbb_cells[i].get_text() == nbb_unformatted_code) {\n",
       "                             nbb_cells[i].set_text(nbb_formatted_code);\n",
       "                        }\n",
       "                        break;\n",
       "                    }\n",
       "                }\n",
       "            }, 500);\n",
       "            "
      ],
      "text/plain": [
       "<IPython.core.display.Javascript object>"
      ]
     },
     "metadata": {},
     "output_type": "display_data"
    }
   ],
   "source": [
    "import seaborn as sns \n",
    "import matplotlib.pyplot as plt"
   ]
  },
  {
   "cell_type": "markdown",
   "metadata": {
    "_cell_guid": "059aa769-3df9-4201-bd84-03c4c20b7760",
    "_uuid": "4de9ef73-9e9c-484d-a3b9-aa4709575236"
   },
   "source": [
    "## Read DATA"
   ]
  },
  {
   "cell_type": "code",
   "execution_count": 6,
   "metadata": {
    "_cell_guid": "2754f301-29e7-4d64-8793-ba179942fc66",
    "_uuid": "2a25907d-df6a-4c7d-8fb2-c53e91514d66",
    "collapsed": false,
    "jupyter": {
     "outputs_hidden": false
    }
   },
   "outputs": [
    {
     "ename": "FileNotFoundError",
     "evalue": "[Errno 2] No such file or directory: '/kaggle/input/stajveriler/stajverilertemiz/satislar_csv.csv'",
     "output_type": "error",
     "traceback": [
      "\u001b[0;31m---------------------------------------------------------------------------\u001b[0m",
      "\u001b[0;31mFileNotFoundError\u001b[0m                         Traceback (most recent call last)",
      "Cell \u001b[0;32mIn [6], line 1\u001b[0m\n\u001b[0;32m----> 1\u001b[0m df \u001b[38;5;241m=\u001b[39m \u001b[43mpd\u001b[49m\u001b[38;5;241;43m.\u001b[39;49m\u001b[43mread_csv\u001b[49m\u001b[43m(\u001b[49m\u001b[38;5;124;43m'\u001b[39;49m\u001b[38;5;124;43m/kaggle/input/stajveriler/stajverilertemiz/satislar_csv.csv\u001b[39;49m\u001b[38;5;124;43m'\u001b[39;49m\u001b[43m)\u001b[49m\n",
      "File \u001b[0;32m~/opt/anaconda3/lib/python3.9/site-packages/pandas/util/_decorators.py:311\u001b[0m, in \u001b[0;36mdeprecate_nonkeyword_arguments.<locals>.decorate.<locals>.wrapper\u001b[0;34m(*args, **kwargs)\u001b[0m\n\u001b[1;32m    305\u001b[0m \u001b[38;5;28;01mif\u001b[39;00m \u001b[38;5;28mlen\u001b[39m(args) \u001b[38;5;241m>\u001b[39m num_allow_args:\n\u001b[1;32m    306\u001b[0m     warnings\u001b[38;5;241m.\u001b[39mwarn(\n\u001b[1;32m    307\u001b[0m         msg\u001b[38;5;241m.\u001b[39mformat(arguments\u001b[38;5;241m=\u001b[39marguments),\n\u001b[1;32m    308\u001b[0m         \u001b[38;5;167;01mFutureWarning\u001b[39;00m,\n\u001b[1;32m    309\u001b[0m         stacklevel\u001b[38;5;241m=\u001b[39mstacklevel,\n\u001b[1;32m    310\u001b[0m     )\n\u001b[0;32m--> 311\u001b[0m \u001b[38;5;28;01mreturn\u001b[39;00m \u001b[43mfunc\u001b[49m\u001b[43m(\u001b[49m\u001b[38;5;241;43m*\u001b[39;49m\u001b[43margs\u001b[49m\u001b[43m,\u001b[49m\u001b[43m \u001b[49m\u001b[38;5;241;43m*\u001b[39;49m\u001b[38;5;241;43m*\u001b[39;49m\u001b[43mkwargs\u001b[49m\u001b[43m)\u001b[49m\n",
      "File \u001b[0;32m~/opt/anaconda3/lib/python3.9/site-packages/pandas/io/parsers/readers.py:678\u001b[0m, in \u001b[0;36mread_csv\u001b[0;34m(filepath_or_buffer, sep, delimiter, header, names, index_col, usecols, squeeze, prefix, mangle_dupe_cols, dtype, engine, converters, true_values, false_values, skipinitialspace, skiprows, skipfooter, nrows, na_values, keep_default_na, na_filter, verbose, skip_blank_lines, parse_dates, infer_datetime_format, keep_date_col, date_parser, dayfirst, cache_dates, iterator, chunksize, compression, thousands, decimal, lineterminator, quotechar, quoting, doublequote, escapechar, comment, encoding, encoding_errors, dialect, error_bad_lines, warn_bad_lines, on_bad_lines, delim_whitespace, low_memory, memory_map, float_precision, storage_options)\u001b[0m\n\u001b[1;32m    663\u001b[0m kwds_defaults \u001b[38;5;241m=\u001b[39m _refine_defaults_read(\n\u001b[1;32m    664\u001b[0m     dialect,\n\u001b[1;32m    665\u001b[0m     delimiter,\n\u001b[0;32m   (...)\u001b[0m\n\u001b[1;32m    674\u001b[0m     defaults\u001b[38;5;241m=\u001b[39m{\u001b[38;5;124m\"\u001b[39m\u001b[38;5;124mdelimiter\u001b[39m\u001b[38;5;124m\"\u001b[39m: \u001b[38;5;124m\"\u001b[39m\u001b[38;5;124m,\u001b[39m\u001b[38;5;124m\"\u001b[39m},\n\u001b[1;32m    675\u001b[0m )\n\u001b[1;32m    676\u001b[0m kwds\u001b[38;5;241m.\u001b[39mupdate(kwds_defaults)\n\u001b[0;32m--> 678\u001b[0m \u001b[38;5;28;01mreturn\u001b[39;00m \u001b[43m_read\u001b[49m\u001b[43m(\u001b[49m\u001b[43mfilepath_or_buffer\u001b[49m\u001b[43m,\u001b[49m\u001b[43m \u001b[49m\u001b[43mkwds\u001b[49m\u001b[43m)\u001b[49m\n",
      "File \u001b[0;32m~/opt/anaconda3/lib/python3.9/site-packages/pandas/io/parsers/readers.py:575\u001b[0m, in \u001b[0;36m_read\u001b[0;34m(filepath_or_buffer, kwds)\u001b[0m\n\u001b[1;32m    572\u001b[0m _validate_names(kwds\u001b[38;5;241m.\u001b[39mget(\u001b[38;5;124m\"\u001b[39m\u001b[38;5;124mnames\u001b[39m\u001b[38;5;124m\"\u001b[39m, \u001b[38;5;28;01mNone\u001b[39;00m))\n\u001b[1;32m    574\u001b[0m \u001b[38;5;66;03m# Create the parser.\u001b[39;00m\n\u001b[0;32m--> 575\u001b[0m parser \u001b[38;5;241m=\u001b[39m \u001b[43mTextFileReader\u001b[49m\u001b[43m(\u001b[49m\u001b[43mfilepath_or_buffer\u001b[49m\u001b[43m,\u001b[49m\u001b[43m \u001b[49m\u001b[38;5;241;43m*\u001b[39;49m\u001b[38;5;241;43m*\u001b[39;49m\u001b[43mkwds\u001b[49m\u001b[43m)\u001b[49m\n\u001b[1;32m    577\u001b[0m \u001b[38;5;28;01mif\u001b[39;00m chunksize \u001b[38;5;129;01mor\u001b[39;00m iterator:\n\u001b[1;32m    578\u001b[0m     \u001b[38;5;28;01mreturn\u001b[39;00m parser\n",
      "File \u001b[0;32m~/opt/anaconda3/lib/python3.9/site-packages/pandas/io/parsers/readers.py:932\u001b[0m, in \u001b[0;36mTextFileReader.__init__\u001b[0;34m(self, f, engine, **kwds)\u001b[0m\n\u001b[1;32m    929\u001b[0m     \u001b[38;5;28mself\u001b[39m\u001b[38;5;241m.\u001b[39moptions[\u001b[38;5;124m\"\u001b[39m\u001b[38;5;124mhas_index_names\u001b[39m\u001b[38;5;124m\"\u001b[39m] \u001b[38;5;241m=\u001b[39m kwds[\u001b[38;5;124m\"\u001b[39m\u001b[38;5;124mhas_index_names\u001b[39m\u001b[38;5;124m\"\u001b[39m]\n\u001b[1;32m    931\u001b[0m \u001b[38;5;28mself\u001b[39m\u001b[38;5;241m.\u001b[39mhandles: IOHandles \u001b[38;5;241m|\u001b[39m \u001b[38;5;28;01mNone\u001b[39;00m \u001b[38;5;241m=\u001b[39m \u001b[38;5;28;01mNone\u001b[39;00m\n\u001b[0;32m--> 932\u001b[0m \u001b[38;5;28mself\u001b[39m\u001b[38;5;241m.\u001b[39m_engine \u001b[38;5;241m=\u001b[39m \u001b[38;5;28;43mself\u001b[39;49m\u001b[38;5;241;43m.\u001b[39;49m\u001b[43m_make_engine\u001b[49m\u001b[43m(\u001b[49m\u001b[43mf\u001b[49m\u001b[43m,\u001b[49m\u001b[43m \u001b[49m\u001b[38;5;28;43mself\u001b[39;49m\u001b[38;5;241;43m.\u001b[39;49m\u001b[43mengine\u001b[49m\u001b[43m)\u001b[49m\n",
      "File \u001b[0;32m~/opt/anaconda3/lib/python3.9/site-packages/pandas/io/parsers/readers.py:1216\u001b[0m, in \u001b[0;36mTextFileReader._make_engine\u001b[0;34m(self, f, engine)\u001b[0m\n\u001b[1;32m   1212\u001b[0m     mode \u001b[38;5;241m=\u001b[39m \u001b[38;5;124m\"\u001b[39m\u001b[38;5;124mrb\u001b[39m\u001b[38;5;124m\"\u001b[39m\n\u001b[1;32m   1213\u001b[0m \u001b[38;5;66;03m# error: No overload variant of \"get_handle\" matches argument types\u001b[39;00m\n\u001b[1;32m   1214\u001b[0m \u001b[38;5;66;03m# \"Union[str, PathLike[str], ReadCsvBuffer[bytes], ReadCsvBuffer[str]]\"\u001b[39;00m\n\u001b[1;32m   1215\u001b[0m \u001b[38;5;66;03m# , \"str\", \"bool\", \"Any\", \"Any\", \"Any\", \"Any\", \"Any\"\u001b[39;00m\n\u001b[0;32m-> 1216\u001b[0m \u001b[38;5;28mself\u001b[39m\u001b[38;5;241m.\u001b[39mhandles \u001b[38;5;241m=\u001b[39m \u001b[43mget_handle\u001b[49m\u001b[43m(\u001b[49m\u001b[43m  \u001b[49m\u001b[38;5;66;43;03m# type: ignore[call-overload]\u001b[39;49;00m\n\u001b[1;32m   1217\u001b[0m \u001b[43m    \u001b[49m\u001b[43mf\u001b[49m\u001b[43m,\u001b[49m\n\u001b[1;32m   1218\u001b[0m \u001b[43m    \u001b[49m\u001b[43mmode\u001b[49m\u001b[43m,\u001b[49m\n\u001b[1;32m   1219\u001b[0m \u001b[43m    \u001b[49m\u001b[43mencoding\u001b[49m\u001b[38;5;241;43m=\u001b[39;49m\u001b[38;5;28;43mself\u001b[39;49m\u001b[38;5;241;43m.\u001b[39;49m\u001b[43moptions\u001b[49m\u001b[38;5;241;43m.\u001b[39;49m\u001b[43mget\u001b[49m\u001b[43m(\u001b[49m\u001b[38;5;124;43m\"\u001b[39;49m\u001b[38;5;124;43mencoding\u001b[39;49m\u001b[38;5;124;43m\"\u001b[39;49m\u001b[43m,\u001b[49m\u001b[43m \u001b[49m\u001b[38;5;28;43;01mNone\u001b[39;49;00m\u001b[43m)\u001b[49m\u001b[43m,\u001b[49m\n\u001b[1;32m   1220\u001b[0m \u001b[43m    \u001b[49m\u001b[43mcompression\u001b[49m\u001b[38;5;241;43m=\u001b[39;49m\u001b[38;5;28;43mself\u001b[39;49m\u001b[38;5;241;43m.\u001b[39;49m\u001b[43moptions\u001b[49m\u001b[38;5;241;43m.\u001b[39;49m\u001b[43mget\u001b[49m\u001b[43m(\u001b[49m\u001b[38;5;124;43m\"\u001b[39;49m\u001b[38;5;124;43mcompression\u001b[39;49m\u001b[38;5;124;43m\"\u001b[39;49m\u001b[43m,\u001b[49m\u001b[43m \u001b[49m\u001b[38;5;28;43;01mNone\u001b[39;49;00m\u001b[43m)\u001b[49m\u001b[43m,\u001b[49m\n\u001b[1;32m   1221\u001b[0m \u001b[43m    \u001b[49m\u001b[43mmemory_map\u001b[49m\u001b[38;5;241;43m=\u001b[39;49m\u001b[38;5;28;43mself\u001b[39;49m\u001b[38;5;241;43m.\u001b[39;49m\u001b[43moptions\u001b[49m\u001b[38;5;241;43m.\u001b[39;49m\u001b[43mget\u001b[49m\u001b[43m(\u001b[49m\u001b[38;5;124;43m\"\u001b[39;49m\u001b[38;5;124;43mmemory_map\u001b[39;49m\u001b[38;5;124;43m\"\u001b[39;49m\u001b[43m,\u001b[49m\u001b[43m \u001b[49m\u001b[38;5;28;43;01mFalse\u001b[39;49;00m\u001b[43m)\u001b[49m\u001b[43m,\u001b[49m\n\u001b[1;32m   1222\u001b[0m \u001b[43m    \u001b[49m\u001b[43mis_text\u001b[49m\u001b[38;5;241;43m=\u001b[39;49m\u001b[43mis_text\u001b[49m\u001b[43m,\u001b[49m\n\u001b[1;32m   1223\u001b[0m \u001b[43m    \u001b[49m\u001b[43merrors\u001b[49m\u001b[38;5;241;43m=\u001b[39;49m\u001b[38;5;28;43mself\u001b[39;49m\u001b[38;5;241;43m.\u001b[39;49m\u001b[43moptions\u001b[49m\u001b[38;5;241;43m.\u001b[39;49m\u001b[43mget\u001b[49m\u001b[43m(\u001b[49m\u001b[38;5;124;43m\"\u001b[39;49m\u001b[38;5;124;43mencoding_errors\u001b[39;49m\u001b[38;5;124;43m\"\u001b[39;49m\u001b[43m,\u001b[49m\u001b[43m \u001b[49m\u001b[38;5;124;43m\"\u001b[39;49m\u001b[38;5;124;43mstrict\u001b[39;49m\u001b[38;5;124;43m\"\u001b[39;49m\u001b[43m)\u001b[49m\u001b[43m,\u001b[49m\n\u001b[1;32m   1224\u001b[0m \u001b[43m    \u001b[49m\u001b[43mstorage_options\u001b[49m\u001b[38;5;241;43m=\u001b[39;49m\u001b[38;5;28;43mself\u001b[39;49m\u001b[38;5;241;43m.\u001b[39;49m\u001b[43moptions\u001b[49m\u001b[38;5;241;43m.\u001b[39;49m\u001b[43mget\u001b[49m\u001b[43m(\u001b[49m\u001b[38;5;124;43m\"\u001b[39;49m\u001b[38;5;124;43mstorage_options\u001b[39;49m\u001b[38;5;124;43m\"\u001b[39;49m\u001b[43m,\u001b[49m\u001b[43m \u001b[49m\u001b[38;5;28;43;01mNone\u001b[39;49;00m\u001b[43m)\u001b[49m\u001b[43m,\u001b[49m\n\u001b[1;32m   1225\u001b[0m \u001b[43m\u001b[49m\u001b[43m)\u001b[49m\n\u001b[1;32m   1226\u001b[0m \u001b[38;5;28;01massert\u001b[39;00m \u001b[38;5;28mself\u001b[39m\u001b[38;5;241m.\u001b[39mhandles \u001b[38;5;129;01mis\u001b[39;00m \u001b[38;5;129;01mnot\u001b[39;00m \u001b[38;5;28;01mNone\u001b[39;00m\n\u001b[1;32m   1227\u001b[0m f \u001b[38;5;241m=\u001b[39m \u001b[38;5;28mself\u001b[39m\u001b[38;5;241m.\u001b[39mhandles\u001b[38;5;241m.\u001b[39mhandle\n",
      "File \u001b[0;32m~/opt/anaconda3/lib/python3.9/site-packages/pandas/io/common.py:786\u001b[0m, in \u001b[0;36mget_handle\u001b[0;34m(path_or_buf, mode, encoding, compression, memory_map, is_text, errors, storage_options)\u001b[0m\n\u001b[1;32m    781\u001b[0m \u001b[38;5;28;01melif\u001b[39;00m \u001b[38;5;28misinstance\u001b[39m(handle, \u001b[38;5;28mstr\u001b[39m):\n\u001b[1;32m    782\u001b[0m     \u001b[38;5;66;03m# Check whether the filename is to be opened in binary mode.\u001b[39;00m\n\u001b[1;32m    783\u001b[0m     \u001b[38;5;66;03m# Binary mode does not support 'encoding' and 'newline'.\u001b[39;00m\n\u001b[1;32m    784\u001b[0m     \u001b[38;5;28;01mif\u001b[39;00m ioargs\u001b[38;5;241m.\u001b[39mencoding \u001b[38;5;129;01mand\u001b[39;00m \u001b[38;5;124m\"\u001b[39m\u001b[38;5;124mb\u001b[39m\u001b[38;5;124m\"\u001b[39m \u001b[38;5;129;01mnot\u001b[39;00m \u001b[38;5;129;01min\u001b[39;00m ioargs\u001b[38;5;241m.\u001b[39mmode:\n\u001b[1;32m    785\u001b[0m         \u001b[38;5;66;03m# Encoding\u001b[39;00m\n\u001b[0;32m--> 786\u001b[0m         handle \u001b[38;5;241m=\u001b[39m \u001b[38;5;28;43mopen\u001b[39;49m\u001b[43m(\u001b[49m\n\u001b[1;32m    787\u001b[0m \u001b[43m            \u001b[49m\u001b[43mhandle\u001b[49m\u001b[43m,\u001b[49m\n\u001b[1;32m    788\u001b[0m \u001b[43m            \u001b[49m\u001b[43mioargs\u001b[49m\u001b[38;5;241;43m.\u001b[39;49m\u001b[43mmode\u001b[49m\u001b[43m,\u001b[49m\n\u001b[1;32m    789\u001b[0m \u001b[43m            \u001b[49m\u001b[43mencoding\u001b[49m\u001b[38;5;241;43m=\u001b[39;49m\u001b[43mioargs\u001b[49m\u001b[38;5;241;43m.\u001b[39;49m\u001b[43mencoding\u001b[49m\u001b[43m,\u001b[49m\n\u001b[1;32m    790\u001b[0m \u001b[43m            \u001b[49m\u001b[43merrors\u001b[49m\u001b[38;5;241;43m=\u001b[39;49m\u001b[43merrors\u001b[49m\u001b[43m,\u001b[49m\n\u001b[1;32m    791\u001b[0m \u001b[43m            \u001b[49m\u001b[43mnewline\u001b[49m\u001b[38;5;241;43m=\u001b[39;49m\u001b[38;5;124;43m\"\u001b[39;49m\u001b[38;5;124;43m\"\u001b[39;49m\u001b[43m,\u001b[49m\n\u001b[1;32m    792\u001b[0m \u001b[43m        \u001b[49m\u001b[43m)\u001b[49m\n\u001b[1;32m    793\u001b[0m     \u001b[38;5;28;01melse\u001b[39;00m:\n\u001b[1;32m    794\u001b[0m         \u001b[38;5;66;03m# Binary mode\u001b[39;00m\n\u001b[1;32m    795\u001b[0m         handle \u001b[38;5;241m=\u001b[39m \u001b[38;5;28mopen\u001b[39m(handle, ioargs\u001b[38;5;241m.\u001b[39mmode)\n",
      "\u001b[0;31mFileNotFoundError\u001b[0m: [Errno 2] No such file or directory: '/kaggle/input/stajveriler/stajverilertemiz/satislar_csv.csv'"
     ]
    },
    {
     "data": {
      "application/javascript": [
       "\n",
       "            setTimeout(function() {\n",
       "                var nbb_cell_id = 6;\n",
       "                var nbb_unformatted_code = \"df = pd.read_csv('/kaggle/input/stajveriler/stajverilertemiz/satislar_csv.csv') ### Read data set\";\n",
       "                var nbb_formatted_code = \"df = pd.read_csv(\\n    \\\"/kaggle/input/stajveriler/stajverilertemiz/satislar_csv.csv\\\"\\n)  ### Read data set\";\n",
       "                var nbb_cells = Jupyter.notebook.get_cells();\n",
       "                for (var i = 0; i < nbb_cells.length; ++i) {\n",
       "                    if (nbb_cells[i].input_prompt_number == nbb_cell_id) {\n",
       "                        if (nbb_cells[i].get_text() == nbb_unformatted_code) {\n",
       "                             nbb_cells[i].set_text(nbb_formatted_code);\n",
       "                        }\n",
       "                        break;\n",
       "                    }\n",
       "                }\n",
       "            }, 500);\n",
       "            "
      ],
      "text/plain": [
       "<IPython.core.display.Javascript object>"
      ]
     },
     "metadata": {},
     "output_type": "display_data"
    }
   ],
   "source": [
    "df = pd.read_csv('/kaggle/input/stajveriler/stajverilertemiz/satislar_csv.csv') ### Read data set"
   ]
  },
  {
   "cell_type": "code",
   "execution_count": null,
   "metadata": {
    "_cell_guid": "a8a2b1f2-a448-4011-af14-5d0a587fa030",
    "_uuid": "8aadb109-6818-4e77-994c-d74a9e8e243e",
    "collapsed": false,
    "jupyter": {
     "outputs_hidden": false
    }
   },
   "outputs": [],
   "source": [
    "fig,ax = plt.subplots(figsize=(20,9))\n",
    "ax = sns.heatmap(df.corr(),annot=True)"
   ]
  },
  {
   "cell_type": "code",
   "execution_count": null,
   "metadata": {
    "_cell_guid": "a8871ace-d2b5-414b-9923-5b2aec23ab9e",
    "_uuid": "f681c98c-e141-435a-9223-1087dd68597a",
    "collapsed": false,
    "jupyter": {
     "outputs_hidden": false
    }
   },
   "outputs": [],
   "source": [
    "df.columns = df.columns.str.replace('\\s+', '') ### The spaces between columns removed"
   ]
  },
  {
   "cell_type": "markdown",
   "metadata": {
    "_cell_guid": "4dd5b6c7-bc06-4b46-b844-d2aad0684c64",
    "_uuid": "e5dbbb35-ef6d-408d-804e-e65d4c3ba2dc"
   },
   "source": [
    "## Getting Rid Off from Canceled Orders"
   ]
  },
  {
   "cell_type": "code",
   "execution_count": null,
   "metadata": {
    "_cell_guid": "3966230d-560c-43df-a0c8-2f94ae80890e",
    "_uuid": "32ed10d5-119b-49d7-850d-8ba8adc98560",
    "collapsed": false,
    "jupyter": {
     "outputs_hidden": false
    }
   },
   "outputs": [],
   "source": [
    "df_canceled = pd.read_excel('/kaggle/input/canceled/canceled.xlsx') #### We have dropped Cancelled datas"
   ]
  },
  {
   "cell_type": "code",
   "execution_count": null,
   "metadata": {
    "_cell_guid": "b590dc43-ba9c-429f-a78a-4f0463cf8be3",
    "_uuid": "5dff3ad9-dd9c-43fa-8e4a-4ed3a8d9ec23",
    "collapsed": false,
    "jupyter": {
     "outputs_hidden": false
    }
   },
   "outputs": [],
   "source": [
    "df.shape"
   ]
  },
  {
   "cell_type": "code",
   "execution_count": null,
   "metadata": {
    "_cell_guid": "d03324ff-c4aa-46ce-8521-6bb97a8f9b69",
    "_uuid": "9169fcc6-c842-48fd-9642-6baccfe1bb33",
    "collapsed": false,
    "jupyter": {
     "outputs_hidden": false
    }
   },
   "outputs": [],
   "source": [
    "df_canceled.head()"
   ]
  },
  {
   "cell_type": "code",
   "execution_count": null,
   "metadata": {
    "_cell_guid": "c1f7ee07-d1f5-4d79-97dd-797b41e79b74",
    "_uuid": "929bea70-c813-4016-8eab-005733fe7c96",
    "collapsed": false,
    "jupyter": {
     "outputs_hidden": false
    }
   },
   "outputs": [],
   "source": [
    "df = df[~df['NORDERID'].isin(df_canceled['nOrderId'])]"
   ]
  },
  {
   "cell_type": "code",
   "execution_count": null,
   "metadata": {
    "_cell_guid": "0077444c-6366-45a2-979b-aa1214b2d9a8",
    "_uuid": "53603007-a850-4c02-a656-2705e1b9286e",
    "collapsed": false,
    "jupyter": {
     "outputs_hidden": false
    }
   },
   "outputs": [],
   "source": [
    "df.shape"
   ]
  },
  {
   "cell_type": "markdown",
   "metadata": {
    "_cell_guid": "dd679ae6-0a49-4dbf-959b-3ef78ede6770",
    "_uuid": "3bd12ea0-4533-45b9-991f-8a6594bd0115"
   },
   "source": [
    "## Converting 'DRECEIEVEDDATE' to datetime"
   ]
  },
  {
   "cell_type": "code",
   "execution_count": null,
   "metadata": {
    "_cell_guid": "72a6e604-0724-45a8-9ca7-ab4d6fb82d9e",
    "_uuid": "9cdbeb46-0d97-4ebc-8486-d98e73ef85c0",
    "collapsed": false,
    "jupyter": {
     "outputs_hidden": false
    }
   },
   "outputs": [],
   "source": [
    "df['DRECEIEVEDDATE'] = pd.to_datetime(df['DRECEIEVEDDATE']) ### we convert the column to datetime"
   ]
  },
  {
   "cell_type": "code",
   "execution_count": null,
   "metadata": {
    "_cell_guid": "988b66fe-884d-4940-b25b-5482bae61f94",
    "_uuid": "68ec328e-08b9-4340-8388-e5e4cdf79dea",
    "collapsed": false,
    "jupyter": {
     "outputs_hidden": false
    }
   },
   "outputs": [],
   "source": [
    "df['DRECEIEVEDDATE'] = df['DRECEIEVEDDATE'].dt.strftime('%d/%m/%Y') ### The column must be seen in this form to convert currencies in further steps."
   ]
  },
  {
   "cell_type": "code",
   "execution_count": null,
   "metadata": {
    "_cell_guid": "bf6917cf-fd5a-4f96-a8c9-f23d4c38490e",
    "_uuid": "867bf906-932a-45e3-b7ae-47e9289182ce",
    "collapsed": false,
    "jupyter": {
     "outputs_hidden": false
    }
   },
   "outputs": [],
   "source": [
    "df['DRECEIEVEDDATE'] = pd.to_datetime(df['DRECEIEVEDDATE'])"
   ]
  },
  {
   "cell_type": "code",
   "execution_count": null,
   "metadata": {
    "_cell_guid": "896707a3-1841-4c2b-a88e-8d3bd54d1899",
    "_uuid": "333af44d-84d5-483a-a3a5-6ed8997addf8",
    "collapsed": false,
    "jupyter": {
     "outputs_hidden": false
    }
   },
   "outputs": [],
   "source": [
    "df.head()"
   ]
  },
  {
   "cell_type": "markdown",
   "metadata": {
    "_cell_guid": "549cf6cf-ce77-4642-8df7-612e967454bd",
    "_uuid": "e2927104-7041-4c10-aecd-1f871cd0e07a"
   },
   "source": [
    "## Removing UNKNOWN country and Currency and PLN currency"
   ]
  },
  {
   "cell_type": "code",
   "execution_count": null,
   "metadata": {
    "_cell_guid": "224a3bae-b962-4762-a7ce-0fa132c5494a",
    "_uuid": "f9056084-da7e-43ee-842d-04198e02140a",
    "collapsed": false,
    "jupyter": {
     "outputs_hidden": false
    }
   },
   "outputs": [],
   "source": [
    "df.columns"
   ]
  },
  {
   "cell_type": "code",
   "execution_count": null,
   "metadata": {
    "_cell_guid": "9b3a07da-1654-4540-81b8-094b360ab7f5",
    "_uuid": "8ef13a6b-8701-459c-8c54-46a71859b819",
    "collapsed": false,
    "jupyter": {
     "outputs_hidden": false
    }
   },
   "outputs": [],
   "source": [
    "df = df[(df['COUNTRY'] != \"UNKNOWN\") | (df[\"CURRENCY\"] != \"UNK\")] \n",
    "## We don't have any idea about the currency and country and also we don't know the revenue from this orders.\n",
    "## 320 columns are removed."
   ]
  },
  {
   "cell_type": "code",
   "execution_count": null,
   "metadata": {
    "_cell_guid": "49500d3c-e559-4f91-897e-0aa3d538e6e2",
    "_uuid": "a1dad519-2506-4edc-b808-879e6994a040",
    "collapsed": false,
    "jupyter": {
     "outputs_hidden": false
    }
   },
   "outputs": [],
   "source": [
    "df.shape"
   ]
  },
  {
   "cell_type": "code",
   "execution_count": null,
   "metadata": {
    "_cell_guid": "f2f73d2f-33cd-4854-afc7-2bb975ae7c4d",
    "_uuid": "dc5c0540-a2bb-4a62-a2ea-f4f8e3f7604f",
    "collapsed": false,
    "jupyter": {
     "outputs_hidden": false
    }
   },
   "outputs": [],
   "source": [
    "df = df[df['CURRENCY'] != 'PLN'] ## We dropped that because we have only one row with PLN----TOTAL = 307 PLN"
   ]
  },
  {
   "cell_type": "code",
   "execution_count": null,
   "metadata": {
    "_cell_guid": "0cbddb2c-9d45-4214-9d9e-edf11715853c",
    "_uuid": "d2db7c36-9ad5-4576-89cf-4ddaae9d3fb8",
    "collapsed": false,
    "jupyter": {
     "outputs_hidden": false
    }
   },
   "outputs": [],
   "source": [
    "df.shape"
   ]
  },
  {
   "cell_type": "markdown",
   "metadata": {
    "_cell_guid": "dba53261-b48c-4e45-abff-e41c43ee7284",
    "_uuid": "7bb2c23b-2456-4d1f-a7c1-3adc9efb1b43"
   },
   "source": [
    "## Filling Nulls on Customer ID and CPostCode"
   ]
  },
  {
   "cell_type": "code",
   "execution_count": null,
   "metadata": {
    "_cell_guid": "b4bd9edc-c088-4a03-a11d-7aaa785f91e4",
    "_uuid": "fc667bb7-60c9-4e6a-be83-c2be1fcc97b5",
    "collapsed": false,
    "jupyter": {
     "outputs_hidden": false
    }
   },
   "outputs": [],
   "source": [
    "df['CUSTOMER_ID'].fillna('UNKNOWN',inplace=True) ## 21 Null values of CUSTOMER_ID are filled with 'UNKNOWN'."
   ]
  },
  {
   "cell_type": "code",
   "execution_count": null,
   "metadata": {
    "_cell_guid": "7df39440-2c6f-43e7-a64f-206ba1523091",
    "_uuid": "4a09addd-0f3b-42af-ae07-066bd8d31b0e",
    "collapsed": false,
    "jupyter": {
     "outputs_hidden": false
    }
   },
   "outputs": [],
   "source": [
    "df[df['CUSTOMER_ID']== 'UNKNOWN']"
   ]
  },
  {
   "cell_type": "code",
   "execution_count": null,
   "metadata": {
    "_cell_guid": "36343e0a-a0b2-420e-85ac-559f4d2427a1",
    "_uuid": "469ccad7-1362-4147-aa33-1206b077ed96",
    "collapsed": false,
    "jupyter": {
     "outputs_hidden": false
    }
   },
   "outputs": [],
   "source": [
    "df['CPOSTCODE'].fillna('UNKNOWN',inplace=True) ## Null Values on CPOSTCODE filled by 'UNKNOWN'. Becuase we didn't want to lose the data."
   ]
  },
  {
   "cell_type": "code",
   "execution_count": null,
   "metadata": {
    "_cell_guid": "2f385dc0-224f-42ca-9972-ca083ed04b87",
    "_uuid": "1fdd6d2f-8c93-4289-81cb-bbe4bced8375",
    "collapsed": false,
    "jupyter": {
     "outputs_hidden": false
    }
   },
   "outputs": [],
   "source": [
    "df.shape"
   ]
  },
  {
   "cell_type": "code",
   "execution_count": null,
   "metadata": {
    "_cell_guid": "d3e57a60-1aa5-4431-bb04-ecf6a0957e81",
    "_uuid": "8c09f784-2674-4176-acb3-9027d965aa38",
    "collapsed": false,
    "jupyter": {
     "outputs_hidden": false
    }
   },
   "outputs": [],
   "source": [
    "df.shape"
   ]
  },
  {
   "cell_type": "markdown",
   "metadata": {
    "_cell_guid": "4f834af3-835e-4439-9c2f-2a23155827f4",
    "_uuid": "3372f679-c1cf-4765-afba-e153953a2856"
   },
   "source": [
    "## Filling NULL values on Processdate"
   ]
  },
  {
   "cell_type": "code",
   "execution_count": null,
   "metadata": {
    "_cell_guid": "98729444-5d53-4b28-a5ed-1374f575dce7",
    "_uuid": "19d9324c-eaf6-45c7-941b-05f2be24322d",
    "collapsed": false,
    "jupyter": {
     "outputs_hidden": false
    }
   },
   "outputs": [],
   "source": [
    "df.isnull().sum()"
   ]
  },
  {
   "cell_type": "code",
   "execution_count": null,
   "metadata": {
    "_cell_guid": "4ea05caa-7f5c-4f4d-98cd-caa49a972955",
    "_uuid": "46bf8bbf-4b4c-469d-9fef-3972690fec66",
    "collapsed": false,
    "jupyter": {
     "outputs_hidden": false
    }
   },
   "outputs": [],
   "source": [
    "df[df['PROCESSEDDATE'].isna()] ## Processdateler sorulacak. Iadeler tablosunda genel olarak bunlardan var."
   ]
  },
  {
   "cell_type": "code",
   "execution_count": null,
   "metadata": {
    "_cell_guid": "7b299d65-3c06-4a05-ac15-98340018ac49",
    "_uuid": "5f3cddd3-94e8-4413-81ca-b1b323ad92e0",
    "collapsed": false,
    "jupyter": {
     "outputs_hidden": false
    }
   },
   "outputs": [],
   "source": [
    "df[df['NORDERID'] == 105333 ] ### We see the same values on the iadeler may be we should drop null process dates."
   ]
  },
  {
   "cell_type": "code",
   "execution_count": null,
   "metadata": {
    "_cell_guid": "6cdfbf28-84ac-4e85-be9a-80c1ba7d2a45",
    "_uuid": "adadc9bf-189b-4c4b-aafa-9aa5bfea6d67",
    "collapsed": false,
    "jupyter": {
     "outputs_hidden": false
    }
   },
   "outputs": [],
   "source": [
    "df.isnull().sum()"
   ]
  },
  {
   "cell_type": "code",
   "execution_count": null,
   "metadata": {
    "_cell_guid": "225de024-33ac-4619-b4fa-f4b7740d6d5e",
    "_uuid": "554b9212-0e61-4058-acc1-e9901decae72",
    "collapsed": false,
    "jupyter": {
     "outputs_hidden": false
    }
   },
   "outputs": [],
   "source": [
    "df.shape"
   ]
  },
  {
   "cell_type": "code",
   "execution_count": null,
   "metadata": {
    "_cell_guid": "ec04a225-9708-4aaf-97a8-91ecc5afb1bf",
    "_uuid": "714aed21-6869-4499-89a7-e778a308b275",
    "collapsed": false,
    "jupyter": {
     "outputs_hidden": false
    }
   },
   "outputs": [],
   "source": [
    "df.head()"
   ]
  },
  {
   "cell_type": "markdown",
   "metadata": {
    "_cell_guid": "d23502c9-78f3-424d-a34f-be36dc605754",
    "_uuid": "9d83e02a-3036-4436-82e0-cc85f0e18162"
   },
   "source": [
    "## Dropping Tracking Number Column and Dispatchunitcost,TotalWeight"
   ]
  },
  {
   "cell_type": "code",
   "execution_count": null,
   "metadata": {
    "_cell_guid": "68194fc5-a6ab-49d2-8500-b7dc82248186",
    "_uuid": "97974622-1e41-42be-9867-48d4151c3da4",
    "collapsed": false,
    "jupyter": {
     "outputs_hidden": false
    }
   },
   "outputs": [],
   "source": [
    "## This are also uncessary columns full of nulls and by 'TRACKINGNUMBER' lots of '2E+1' etc.)\n",
    "df.drop('DISPATCHSTOCKUNITCOST',axis=1,inplace=True)\n",
    "df.drop('TRACKINGNUMBER',axis=1,inplace=True)\n",
    "df.drop('TOTALWEIGHT',axis=1,inplace=True)"
   ]
  },
  {
   "cell_type": "code",
   "execution_count": null,
   "metadata": {
    "_cell_guid": "65b4ca26-8b7c-43f2-a90d-6127554cb905",
    "_uuid": "379e545c-ec45-4048-9c2a-5d636a35b162",
    "collapsed": false,
    "jupyter": {
     "outputs_hidden": false
    }
   },
   "outputs": [],
   "source": [
    "df.shape"
   ]
  },
  {
   "cell_type": "code",
   "execution_count": null,
   "metadata": {
    "_cell_guid": "4d220942-0042-4b44-872c-d210dc8947e5",
    "_uuid": "f2a24f87-8a20-414b-afbf-914302c002f0",
    "collapsed": false,
    "jupyter": {
     "outputs_hidden": false
    }
   },
   "outputs": [],
   "source": [
    "df.head()"
   ]
  },
  {
   "cell_type": "markdown",
   "metadata": {
    "_cell_guid": "a81d6a04-0e5f-4fd8-b031-53059cdd68d1",
    "_uuid": "d5a36d57-80a9-4826-ac15-4b9cb4257e69"
   },
   "source": [
    "## Dealing with UNK currencies"
   ]
  },
  {
   "cell_type": "code",
   "execution_count": null,
   "metadata": {
    "_cell_guid": "6acb7778-32e2-43fe-a792-08a5feb8bee7",
    "_uuid": "bcba7a82-33e8-44c1-bace-12f2bfb29e22",
    "collapsed": false,
    "jupyter": {
     "outputs_hidden": false
    }
   },
   "outputs": [],
   "source": [
    "df4 = df[df['CURRENCY'] == 'UNK']  ## Exhange Library can not convert the UNK currencies."
   ]
  },
  {
   "cell_type": "code",
   "execution_count": null,
   "metadata": {
    "_cell_guid": "f001be16-4470-42c4-af74-68462661daba",
    "_uuid": "8066961a-dc14-43f0-84f8-d38f7f036aed",
    "collapsed": false,
    "jupyter": {
     "outputs_hidden": false
    }
   },
   "outputs": [],
   "source": [
    "df = df[df['CURRENCY']!= 'UNK']  ###  We don't know Country and same as currency"
   ]
  },
  {
   "cell_type": "markdown",
   "metadata": {
    "_cell_guid": "d68e7540-ed3b-4aba-90bc-30615028b072",
    "_uuid": "9f8b4546-d0c3-4c8a-ab78-35b5dca0ff50"
   },
   "source": [
    "## Exchange Rates Changing"
   ]
  },
  {
   "cell_type": "code",
   "execution_count": null,
   "metadata": {
    "_cell_guid": "45145945-9f8d-4e77-ae69-8203ab8702ed",
    "_uuid": "4c3d9f93-04c4-4082-af17-99e0ef2b5b72",
    "collapsed": false,
    "jupyter": {
     "outputs_hidden": false
    }
   },
   "outputs": [],
   "source": [
    "!pip install forex_python   ### This is the library we use to exchange currencies."
   ]
  },
  {
   "cell_type": "code",
   "execution_count": null,
   "metadata": {
    "_cell_guid": "36f81d6d-de29-499a-8c61-62916acfc0db",
    "_uuid": "6cb1c26e-d83c-4b7c-90ff-84adc2cd8780",
    "collapsed": false,
    "jupyter": {
     "outputs_hidden": false
    }
   },
   "outputs": [],
   "source": [
    "from forex_python.converter import CurrencyRates ### The library we will use to convert currencies to GBP."
   ]
  },
  {
   "cell_type": "code",
   "execution_count": null,
   "metadata": {
    "_cell_guid": "2a95ff74-54ef-45bb-844f-01e328040556",
    "_uuid": "5ce07778-bd22-4d19-900a-ae41314029e5",
    "collapsed": false,
    "jupyter": {
     "outputs_hidden": false
    }
   },
   "outputs": [],
   "source": [
    "from datetime import datetime                 ### The library that formats our 'DRECEIVEDATE' column."
   ]
  },
  {
   "cell_type": "code",
   "execution_count": null,
   "metadata": {
    "_cell_guid": "584df90b-5c5e-4123-a9f5-66d3fca31f87",
    "_uuid": "0af19cb5-152d-405d-a285-ad0524a4017d",
    "collapsed": false,
    "jupyter": {
     "outputs_hidden": false
    }
   },
   "outputs": [],
   "source": [
    "c = CurrencyRates()                         ### Function which converts our currencies"
   ]
  },
  {
   "cell_type": "code",
   "execution_count": null,
   "metadata": {
    "_cell_guid": "7af05ee4-04d2-4f63-b690-7c94a1ea0df1",
    "_uuid": "a7b14bba-abfc-4bf9-b0e2-0052c5d1eb91",
    "collapsed": false,
    "jupyter": {
     "outputs_hidden": false
    }
   },
   "outputs": [],
   "source": [
    "df.dtypes"
   ]
  },
  {
   "cell_type": "code",
   "execution_count": null,
   "metadata": {
    "_cell_guid": "7e5fd8f1-54f4-45b6-aa3a-a04f525ae275",
    "_uuid": "6d21f436-2017-44c3-aa9a-62feeb2bbcf5",
    "collapsed": false,
    "jupyter": {
     "outputs_hidden": false
    }
   },
   "outputs": [],
   "source": [
    "df['DRECEIEVEDDATE'] = df['DRECEIEVEDDATE'].dt.strftime('%d.%m.%Y') ### Date Column must be in this give format."
   ]
  },
  {
   "cell_type": "code",
   "execution_count": null,
   "metadata": {
    "_cell_guid": "e6c7accc-ee54-455a-b0ba-e5c304e4aa08",
    "_uuid": "41c68360-fafb-4cc4-a959-11e72decf18c",
    "collapsed": false,
    "jupyter": {
     "outputs_hidden": false
    }
   },
   "outputs": [],
   "source": [
    "df['TOTAL'] = df.apply( lambda x: c.convert(x.CURRENCY, 'GBP', \n",
    "                                             float(str(x.TOTAL).replace(',', '.')), \n",
    "                                             datetime.strptime(x.DRECEIEVEDDATE, \"%d.%m.%Y\").date()), axis = 1)\n",
    "\n",
    "## Here we converted values on the'TOTAL' from diffrent currencies to GBP"
   ]
  },
  {
   "cell_type": "code",
   "execution_count": null,
   "metadata": {
    "_cell_guid": "b0b84d0f-cb4a-43ad-8303-0fca92e0a3be",
    "_uuid": "5fa31a6f-abd1-4046-8255-c291dd432653",
    "collapsed": false,
    "jupyter": {
     "outputs_hidden": false
    }
   },
   "outputs": [],
   "source": [
    "df.head()"
   ]
  },
  {
   "cell_type": "code",
   "execution_count": null,
   "metadata": {
    "_cell_guid": "94983843-be0d-4a87-b947-a4f50bf667d2",
    "_uuid": "b84425a1-2bc1-434c-befa-2e18202d67cc",
    "collapsed": false,
    "jupyter": {
     "outputs_hidden": false
    }
   },
   "outputs": [],
   "source": [
    "df['SUBTOTAL'] = df.apply( lambda x: c.convert(x.CURRENCY, 'GBP', \n",
    "                                             float(str(x.SUBTOTAL).replace(',', '.')), \n",
    "                                             datetime.strptime(x.DRECEIEVEDDATE, \"%d.%m.%Y\").date()), axis = 1)\n",
    "\n",
    "## Here we converted values on the'SUBTOTAL' from diffrent currencies to GBP"
   ]
  },
  {
   "cell_type": "code",
   "execution_count": null,
   "metadata": {
    "_cell_guid": "15b3b389-9dfc-493d-bcb5-c4243f6f47bc",
    "_uuid": "7a5356c4-59db-473b-934e-c6b52dd517f6",
    "collapsed": false,
    "jupyter": {
     "outputs_hidden": false
    }
   },
   "outputs": [],
   "source": [
    "df['PURCHASEPRICE'] = df.apply( lambda x: c.convert(x.CURRENCY, 'GBP', \n",
    "                                             float(str(x.PURCHASEPRICE).replace(',', '.')), \n",
    "                                             datetime.strptime(x.DRECEIEVEDDATE, \"%d.%m.%Y\").date()), axis = 1)\n",
    "\n",
    "## Here we converted values on the'SUBTOTAL' from diffrent currencies to GBP"
   ]
  },
  {
   "cell_type": "code",
   "execution_count": null,
   "metadata": {
    "_cell_guid": "85cf14e2-509e-4dc9-9343-9b5355cc0a7d",
    "_uuid": "9f46a23e-0726-46a0-b802-dfd272c1c9f1",
    "collapsed": false,
    "jupyter": {
     "outputs_hidden": false
    }
   },
   "outputs": [],
   "source": [
    "df[df['CURRENCY'] == 'EUR']"
   ]
  },
  {
   "cell_type": "code",
   "execution_count": null,
   "metadata": {
    "_cell_guid": "0c2b1ca1-cb8a-4a5d-b12d-434773d5a711",
    "_uuid": "313f4e0e-525b-46ed-b082-b1ef957e4cda",
    "collapsed": false,
    "jupyter": {
     "outputs_hidden": false
    }
   },
   "outputs": [],
   "source": [
    "df['CURRENCY'] = df['CURRENCY'].replace(['EUR'],'GBP')"
   ]
  },
  {
   "cell_type": "code",
   "execution_count": null,
   "metadata": {
    "_cell_guid": "ec6e051b-5ed6-43b2-b82c-1b9d65d343c3",
    "_uuid": "78cd75da-02be-4403-8834-f1b04a00eee6",
    "collapsed": false,
    "jupyter": {
     "outputs_hidden": false
    }
   },
   "outputs": [],
   "source": [
    "df['CURRENCY'] = df['CURRENCY'].replace(['SEK'],'GBP')"
   ]
  },
  {
   "cell_type": "code",
   "execution_count": null,
   "metadata": {
    "_cell_guid": "d89536b8-a3f5-41fb-b8b2-e09787d74c4a",
    "_uuid": "19575aac-f737-49da-a978-72dbcc7918e4",
    "collapsed": false,
    "jupyter": {
     "outputs_hidden": false
    }
   },
   "outputs": [],
   "source": [
    "df[df['CURRENCY'] != 'GBP'] ## We proved all currencies successfully converted to GBP."
   ]
  },
  {
   "cell_type": "code",
   "execution_count": null,
   "metadata": {
    "_cell_guid": "ae134d5d-c499-484e-899f-05fa9f134168",
    "_uuid": "9816259b-dfbe-4ca5-ab9f-e2a1dcb22e94",
    "collapsed": false,
    "jupyter": {
     "outputs_hidden": false
    }
   },
   "outputs": [],
   "source": [
    "df4.dtypes"
   ]
  },
  {
   "cell_type": "code",
   "execution_count": null,
   "metadata": {
    "_cell_guid": "55966b28-729e-419a-ac38-906dceb0ec86",
    "_uuid": "79e9c069-5002-464d-a42f-95097bd55d9e",
    "collapsed": false,
    "jupyter": {
     "outputs_hidden": false
    }
   },
   "outputs": [],
   "source": [
    "df4.head(25)"
   ]
  },
  {
   "cell_type": "code",
   "execution_count": null,
   "metadata": {
    "_cell_guid": "4a43f8f3-0bf3-4cc3-8a63-8315f56b1adc",
    "_uuid": "2e9a6ac6-5834-4d35-bf35-e3a70f146c7b",
    "collapsed": false,
    "jupyter": {
     "outputs_hidden": false
    }
   },
   "outputs": [],
   "source": [
    "df.dtypes"
   ]
  },
  {
   "cell_type": "code",
   "execution_count": null,
   "metadata": {
    "_cell_guid": "99a0b5a8-f327-47f9-bfb9-e66df6552404",
    "_uuid": "c5fb36af-7c78-4a03-a263-e2511fc6c87e",
    "collapsed": false,
    "jupyter": {
     "outputs_hidden": false
    }
   },
   "outputs": [],
   "source": [
    "df4.head()"
   ]
  },
  {
   "cell_type": "code",
   "execution_count": null,
   "metadata": {
    "_cell_guid": "cf49f92a-b871-4a66-af03-3d2fbca4eecd",
    "_uuid": "2691dbca-5d09-4e2c-b1d5-4ead276b1fbb",
    "collapsed": false,
    "jupyter": {
     "outputs_hidden": false
    }
   },
   "outputs": [],
   "source": [
    "df['DRECEIEVEDDATE'] = pd.to_datetime(df['DRECEIEVEDDATE']) \n",
    "\n",
    "## We had to convert it again to datetime otherwise we couldn't get to step of concatenation"
   ]
  },
  {
   "cell_type": "code",
   "execution_count": null,
   "metadata": {
    "_cell_guid": "6d9ba3ea-21d3-436c-939a-650bb72f0ae5",
    "_uuid": "ec1b4ccb-432b-4d52-879d-a28b75300a81",
    "collapsed": false,
    "jupyter": {
     "outputs_hidden": false
    }
   },
   "outputs": [],
   "source": [
    "df = pd.concat([df,df4],axis=0) ### We have concatenated our df with df4 to gather UNK currencies with GPB's."
   ]
  },
  {
   "cell_type": "code",
   "execution_count": null,
   "metadata": {
    "_cell_guid": "a567ee9c-8d92-465b-8929-00442c268ad6",
    "_uuid": "a80a362b-49ff-4fcf-a28a-5ac0a231ba75",
    "collapsed": false,
    "jupyter": {
     "outputs_hidden": false
    }
   },
   "outputs": [],
   "source": [
    "df.shape"
   ]
  },
  {
   "cell_type": "code",
   "execution_count": null,
   "metadata": {
    "_cell_guid": "79696aae-de21-4835-900b-7eaf3628d4cd",
    "_uuid": "7de3fe3a-f7f6-484c-bb82-cbcb7c7670ca",
    "collapsed": false,
    "jupyter": {
     "outputs_hidden": false
    }
   },
   "outputs": [],
   "source": [
    "df[df['CURRENCY'] == 'GBP']"
   ]
  },
  {
   "cell_type": "code",
   "execution_count": null,
   "metadata": {
    "_cell_guid": "b81b2c32-71e0-48fd-b51f-8b8515541b8f",
    "_uuid": "64e45daf-20ab-4bbc-9f26-ba2c19dff416",
    "collapsed": false,
    "jupyter": {
     "outputs_hidden": false
    }
   },
   "outputs": [],
   "source": [
    "df.isnull().sum()"
   ]
  },
  {
   "cell_type": "code",
   "execution_count": null,
   "metadata": {
    "_cell_guid": "16b6558d-3cd9-4ddc-9273-81e9b8ea22b3",
    "_uuid": "946fd604-2dbd-47c0-8d21-2a66b83f124e",
    "collapsed": false,
    "jupyter": {
     "outputs_hidden": false
    }
   },
   "outputs": [],
   "source": [
    "df.shape"
   ]
  },
  {
   "cell_type": "code",
   "execution_count": null,
   "metadata": {
    "_cell_guid": "642d7dfb-573b-43ba-ac04-84a9c14b128e",
    "_uuid": "1a2480e9-aa3a-4873-803a-973be5cc28aa",
    "collapsed": false,
    "jupyter": {
     "outputs_hidden": false
    }
   },
   "outputs": [],
   "source": [
    "df.dtypes"
   ]
  },
  {
   "cell_type": "code",
   "execution_count": null,
   "metadata": {
    "_cell_guid": "26899590-de3b-4ec9-a108-394b36d833e3",
    "_uuid": "f03b9685-9d92-45fa-9c6f-c72789c467d9",
    "collapsed": false,
    "jupyter": {
     "outputs_hidden": false
    }
   },
   "outputs": [],
   "source": [
    "# df['TOTAL'] = df['TOTAL'].apply(lambda x: '%.2f' % x)\n",
    "# df['SUBTOTAL'] = df['SUBTOTAL'].apply(lambda x: '%.2f' % x)\n",
    "# df['TAX'] = df['TAX'].apply(lambda x: '%.2f' % x)\n",
    "# df['PURCHASEPRICE'] = df['PURCHASEPRICE'].apply(lambda x: '%.2f' % x)"
   ]
  },
  {
   "cell_type": "code",
   "execution_count": null,
   "metadata": {
    "_cell_guid": "bf1e0974-4272-4581-b550-7f6f1e2dbb25",
    "_uuid": "b34d2eef-5377-4e99-9c71-f42684fe949a",
    "collapsed": false,
    "jupyter": {
     "outputs_hidden": false
    }
   },
   "outputs": [],
   "source": [
    "df.head()"
   ]
  },
  {
   "cell_type": "markdown",
   "metadata": {
    "_cell_guid": "e4ecb2af-16ef-4143-b3ae-a48a4179d499",
    "_uuid": "176c585a-0af0-4db3-9758-abea219f47ba"
   },
   "source": [
    "### 1.Adding Features"
   ]
  },
  {
   "cell_type": "markdown",
   "metadata": {
    "_cell_guid": "c014139c-03a7-46c2-804c-4f420a3dacb1",
    "_uuid": "35986061-d8a3-4f73-8f42-e0b8252fc9a7"
   },
   "source": [
    "## Adding Quantity Price with tax and without tax"
   ]
  },
  {
   "cell_type": "code",
   "execution_count": null,
   "metadata": {
    "_cell_guid": "b7a2c915-17b2-4a32-aede-5396f18931b7",
    "_uuid": "d083bdf6-5d53-414c-ac70-ba95c921bfb6",
    "collapsed": false,
    "jupyter": {
     "outputs_hidden": false
    }
   },
   "outputs": [],
   "source": [
    "df.dtypes"
   ]
  },
  {
   "cell_type": "code",
   "execution_count": null,
   "metadata": {
    "_cell_guid": "3f7de19a-27bb-45a3-8d36-6954914be6b2",
    "_uuid": "d66a3815-d46e-45f2-ab1e-088765a8ce51",
    "collapsed": false,
    "jupyter": {
     "outputs_hidden": false
    }
   },
   "outputs": [],
   "source": [
    "df['TP_per_Quantity'] = df['TOTAL'].astype('float') / df['ORDERITEMQUANTITY'].astype(float)  \n",
    "## With Tax (The Income per Quantity with tax.)"
   ]
  },
  {
   "cell_type": "code",
   "execution_count": null,
   "metadata": {
    "_cell_guid": "c2e7c725-373d-4ac1-b1df-657944e8f892",
    "_uuid": "5f2712c6-2e09-4354-8116-880e5590c85d",
    "collapsed": false,
    "jupyter": {
     "outputs_hidden": false
    }
   },
   "outputs": [],
   "source": [
    "df.dtypes"
   ]
  },
  {
   "cell_type": "code",
   "execution_count": null,
   "metadata": {
    "_cell_guid": "0c7dc478-4372-4a7f-b8ca-b5cb9b077892",
    "_uuid": "ee569ccf-32a1-48f9-8fd6-e0131f85f508",
    "collapsed": false,
    "jupyter": {
     "outputs_hidden": false
    }
   },
   "outputs": [],
   "source": [
    "df['ST_per_Quantity'] = df['SUBTOTAL'].astype('float') / df['ORDERITEMQUANTITY'].astype('float') \n",
    "## With Out Tax(The Income without tax per quantity  )"
   ]
  },
  {
   "cell_type": "code",
   "execution_count": null,
   "metadata": {
    "_cell_guid": "3bdec390-af66-4f98-aca8-b60a377a6b7b",
    "_uuid": "e951e340-b7a7-499e-b36b-b924fcea9dd1",
    "collapsed": false,
    "jupyter": {
     "outputs_hidden": false
    }
   },
   "outputs": [],
   "source": [
    "df.head()"
   ]
  },
  {
   "cell_type": "code",
   "execution_count": null,
   "metadata": {
    "_cell_guid": "a68b69f4-e18a-4c67-9f77-a7f036d16185",
    "_uuid": "6705b13b-2f92-49ab-801a-24e900411001",
    "collapsed": false,
    "jupyter": {
     "outputs_hidden": false
    }
   },
   "outputs": [],
   "source": [
    "df.shape"
   ]
  },
  {
   "cell_type": "code",
   "execution_count": null,
   "metadata": {
    "_cell_guid": "a2e137e4-20c7-415f-9d46-5b37189250fc",
    "_uuid": "e84dda71-e364-4c6a-9dce-93017481f447",
    "collapsed": false,
    "jupyter": {
     "outputs_hidden": false
    }
   },
   "outputs": [],
   "source": [
    "df.isnull().sum()"
   ]
  },
  {
   "cell_type": "markdown",
   "metadata": {
    "_cell_guid": "109944e4-70a8-4c01-9380-dd9501c81bf0",
    "_uuid": "b35f9e31-b501-4b5f-8943-fd3db4fe8f6c"
   },
   "source": [
    "## Adding Inflation Rates Turkey and UK"
   ]
  },
  {
   "cell_type": "code",
   "execution_count": null,
   "metadata": {
    "_cell_guid": "2310befb-d064-43e0-9228-460ad6528d03",
    "_uuid": "a5807a02-4cb8-4228-8fcb-0193312b6fd2",
    "collapsed": false,
    "jupyter": {
     "outputs_hidden": false
    }
   },
   "outputs": [],
   "source": [
    "df5 = pd.read_excel('/kaggle/input/inflation/Inflation.xlsx') ### We have created a new data set for Iflation"
   ]
  },
  {
   "cell_type": "code",
   "execution_count": null,
   "metadata": {
    "_cell_guid": "fa603114-9b1c-497e-b07d-add315dfb590",
    "_uuid": "acd4189a-a91b-404a-b1a1-8195d6339568",
    "collapsed": false,
    "jupyter": {
     "outputs_hidden": false
    }
   },
   "outputs": [],
   "source": [
    "df.rename(columns = {'DRECEIEVEDDATE_YEAR' : 'YEAR'},inplace=True)"
   ]
  },
  {
   "cell_type": "code",
   "execution_count": null,
   "metadata": {
    "_cell_guid": "0e5f0dcb-c84d-4dd3-9a5b-d56fe1e51bd6",
    "_uuid": "8bebfa97-91f9-49ab-8943-cbdb977c2733",
    "collapsed": false,
    "jupyter": {
     "outputs_hidden": false
    }
   },
   "outputs": [],
   "source": [
    "df = df.merge(df5, left_on='YEAR', right_on='YEAR', how='left') ## Yearly Inflation of UK for the 2022 as a guess"
   ]
  },
  {
   "cell_type": "code",
   "execution_count": null,
   "metadata": {
    "_cell_guid": "6eb961d6-b962-49d9-b126-aa06cb5b1226",
    "_uuid": "a2957643-6539-44ef-a9e9-0f504e7712e7",
    "collapsed": false,
    "jupyter": {
     "outputs_hidden": false
    }
   },
   "outputs": [],
   "source": [
    "df.head()"
   ]
  },
  {
   "cell_type": "code",
   "execution_count": null,
   "metadata": {
    "_cell_guid": "d5c23566-c56a-4ff8-a0cb-2f84aa5b07ba",
    "_uuid": "75c74156-8736-477a-ad5c-e485b9f0ecf5",
    "collapsed": false,
    "jupyter": {
     "outputs_hidden": false
    }
   },
   "outputs": [],
   "source": [
    "df.shape"
   ]
  },
  {
   "cell_type": "markdown",
   "metadata": {
    "_cell_guid": "f1d35422-3274-4e4b-a193-a9bb38a0990a",
    "_uuid": "ca4fc2c5-7874-4dcd-8635-54d7bdcc9a07"
   },
   "source": [
    "## Adding Net_Profit"
   ]
  },
  {
   "cell_type": "code",
   "execution_count": null,
   "metadata": {
    "_cell_guid": "444a09dd-9003-4177-bf66-83fc946ee7bb",
    "_uuid": "e0f40256-d31a-4fd4-bbe9-ef78a9ff9ba4",
    "collapsed": false,
    "jupyter": {
     "outputs_hidden": false
    }
   },
   "outputs": [],
   "source": [
    "df['Net_Profit'] = df['SUBTOTAL'].astype('float') - df['PURCHASEPRICE'].astype('float') \n",
    "\n",
    "## We would like to know net income for each sale."
   ]
  },
  {
   "cell_type": "code",
   "execution_count": null,
   "metadata": {
    "_cell_guid": "1292a62c-7f30-4542-817b-bb4317b9a2aa",
    "_uuid": "302a6aa7-0748-4614-948d-8e32243c64cc",
    "collapsed": false,
    "jupyter": {
     "outputs_hidden": false
    }
   },
   "outputs": [],
   "source": [
    "df.head()"
   ]
  },
  {
   "cell_type": "code",
   "execution_count": null,
   "metadata": {
    "_cell_guid": "28bc77b5-7324-44de-b442-448f087034fd",
    "_uuid": "e2ff99e6-8de2-47cc-a296-7309b2838639",
    "collapsed": false,
    "jupyter": {
     "outputs_hidden": false
    }
   },
   "outputs": [],
   "source": [
    "df.head() ## CPI is for INFLATION"
   ]
  },
  {
   "cell_type": "code",
   "execution_count": null,
   "metadata": {
    "_cell_guid": "5ebe0b10-9336-486e-a233-3f92c6444473",
    "_uuid": "d3011172-df83-4d83-85d7-787757ffa118",
    "collapsed": false,
    "jupyter": {
     "outputs_hidden": false
    }
   },
   "outputs": [],
   "source": [
    "df.isnull().sum()"
   ]
  },
  {
   "cell_type": "code",
   "execution_count": null,
   "metadata": {
    "_cell_guid": "2b012d82-4dd9-4e16-8db2-c7640df4bb3a",
    "_uuid": "2c8857ce-f347-45e7-a7d8-3c340ebcfb23",
    "collapsed": false,
    "jupyter": {
     "outputs_hidden": false
    }
   },
   "outputs": [],
   "source": [
    "df.rename(columns = {'YEAR' : 'DRECEIEVEDDATE_YEAR'},inplace = True)"
   ]
  },
  {
   "cell_type": "code",
   "execution_count": null,
   "metadata": {
    "_cell_guid": "db83e0e2-e35b-452c-8a15-bea12b4bda11",
    "_uuid": "d859bc68-cd93-4c78-bba1-f30631b95342",
    "collapsed": false,
    "jupyter": {
     "outputs_hidden": false
    }
   },
   "outputs": [],
   "source": [
    "df.head()"
   ]
  },
  {
   "cell_type": "code",
   "execution_count": null,
   "metadata": {
    "_cell_guid": "547670fa-24ae-4e5a-83fd-82768b213608",
    "_uuid": "5715fc11-d03e-4e12-92c0-cd5185e6cc93",
    "collapsed": false,
    "jupyter": {
     "outputs_hidden": false
    }
   },
   "outputs": [],
   "source": [
    "df.isnull().sum()"
   ]
  },
  {
   "cell_type": "markdown",
   "metadata": {
    "_cell_guid": "f012d18c-5a5b-451e-ad51-251c3b5f0b64",
    "_uuid": "04280456-9a3c-44b8-a7c4-7c3846853da3"
   },
   "source": [
    "##  Adding DayTime Feature"
   ]
  },
  {
   "cell_type": "code",
   "execution_count": null,
   "metadata": {
    "_cell_guid": "cefbf3f2-7e5a-4cdb-9470-c72dab25a1c7",
    "_uuid": "d718fd8f-3d20-4600-b2c5-20267df76922",
    "collapsed": false,
    "jupyter": {
     "outputs_hidden": false
    }
   },
   "outputs": [],
   "source": [
    "def daytime_finder(x):\n",
    "    if x>=0 and x<=6:\n",
    "        return'Early Morning'                          \n",
    "    if x>6 and x<=12:\n",
    "        return 'Morning'\n",
    "    if x>12 and x<=18:\n",
    "        return 'AfterNoon'\n",
    "    elif x>18 and x<=23:\n",
    "        return 'Night'  \n",
    "    \n",
    "    #### We have splitted up a day to 4 parts on 6 hours base for each part."
   ]
  },
  {
   "cell_type": "code",
   "execution_count": null,
   "metadata": {
    "_cell_guid": "22fe0d23-b8b7-4745-be6b-518904ba0c68",
    "_uuid": "47e0985c-3461-4f76-a3b8-5597cbf8a333",
    "collapsed": false,
    "jupyter": {
     "outputs_hidden": false
    }
   },
   "outputs": [],
   "source": [
    "df['DayTime'] = df.DRECEIEVEDDATE_HOUR.apply(lambda x:daytime_finder(x))"
   ]
  },
  {
   "cell_type": "code",
   "execution_count": null,
   "metadata": {
    "_cell_guid": "c39448aa-b2dd-4641-9b20-e91ec03db796",
    "_uuid": "ee247024-5aab-458d-af2e-53f533472d02",
    "collapsed": false,
    "jupyter": {
     "outputs_hidden": false
    }
   },
   "outputs": [],
   "source": [
    "df.dtypes"
   ]
  },
  {
   "cell_type": "code",
   "execution_count": null,
   "metadata": {
    "_cell_guid": "f7a82a73-d967-4d82-9854-395a786aab99",
    "_uuid": "16596be8-008b-427b-b0e7-251033933c27",
    "collapsed": false,
    "jupyter": {
     "outputs_hidden": false
    }
   },
   "outputs": [],
   "source": [
    "df.isnull().sum()"
   ]
  },
  {
   "cell_type": "code",
   "execution_count": null,
   "metadata": {
    "_cell_guid": "a85ae184-4929-42af-bb2d-fa06712b1b71",
    "_uuid": "a8de4b66-f9f8-41e3-8b3f-f8c7a44f45fe",
    "collapsed": false,
    "jupyter": {
     "outputs_hidden": false
    }
   },
   "outputs": [],
   "source": [
    "df.head()"
   ]
  },
  {
   "cell_type": "code",
   "execution_count": null,
   "metadata": {
    "_cell_guid": "c0a1e759-2754-46fb-9746-173a6beed990",
    "_uuid": "bb058a2a-e10f-4f99-a04d-b6565664b7c1",
    "collapsed": false,
    "jupyter": {
     "outputs_hidden": false
    }
   },
   "outputs": [],
   "source": [
    "df.dtypes"
   ]
  },
  {
   "cell_type": "markdown",
   "metadata": {
    "_cell_guid": "4b37cab0-9388-4334-b14e-4718ee8003a0",
    "_uuid": "c3eda176-c63a-44b2-8cf6-6056553fac80"
   },
   "source": [
    "## Copying DF to keep null data"
   ]
  },
  {
   "cell_type": "code",
   "execution_count": null,
   "metadata": {
    "_cell_guid": "6aeb0963-9acf-4110-8cba-0586196051f8",
    "_uuid": "fca79894-aeab-4c29-8851-b4289da707ca",
    "collapsed": false,
    "jupyter": {
     "outputs_hidden": false
    }
   },
   "outputs": [],
   "source": [
    "#### Burada df e copy cekilip null veriler ile kaydedilecek kaydedilecek. (df must be copied here and we will go further with another dataframe)\n",
    "\n",
    "df_null = df.copy() ### To guarantee null processdates"
   ]
  },
  {
   "cell_type": "code",
   "execution_count": null,
   "metadata": {
    "_cell_guid": "c6533cc2-8cd0-4fc0-93ac-8dc392b0b2be",
    "_uuid": "1ad95c72-d12c-4385-b507-aea625f0b1f2",
    "collapsed": false,
    "jupyter": {
     "outputs_hidden": false
    }
   },
   "outputs": [],
   "source": [
    "df_null.isnull().sum()"
   ]
  },
  {
   "cell_type": "code",
   "execution_count": null,
   "metadata": {
    "_cell_guid": "ab02ef85-4199-4c0f-b47d-091b93b8b8c6",
    "_uuid": "577c1373-cac2-4e59-bdbf-97a328f08288",
    "collapsed": false,
    "jupyter": {
     "outputs_hidden": false
    }
   },
   "outputs": [],
   "source": [
    " #df_null.to_excel('df_null_processdate.xlsx')"
   ]
  },
  {
   "cell_type": "code",
   "execution_count": null,
   "metadata": {
    "_cell_guid": "8fea0513-86cb-4331-9c18-4d555d9e7fe3",
    "_uuid": "d1a711c9-a7e5-46c2-a5c2-6c10aa85ab0f",
    "collapsed": false,
    "jupyter": {
     "outputs_hidden": false
    }
   },
   "outputs": [],
   "source": [
    "df_float = df_null.copy() ##### To guarentee float data"
   ]
  },
  {
   "cell_type": "code",
   "execution_count": null,
   "metadata": {
    "_cell_guid": "81e541ca-75d1-4419-ab39-5e845b0afd10",
    "_uuid": "261c24cc-e050-4725-b3ca-39ef4d7c339f",
    "collapsed": false,
    "jupyter": {
     "outputs_hidden": false
    }
   },
   "outputs": [],
   "source": [
    "df_float = df_float[df_float['PROCESSEDDATE'].notnull()]"
   ]
  },
  {
   "cell_type": "code",
   "execution_count": null,
   "metadata": {
    "_cell_guid": "045b4128-c278-4ecf-a930-7704a71a7513",
    "_uuid": "4b90c4b5-9534-4a3c-829d-1f53c45322f0",
    "collapsed": false,
    "jupyter": {
     "outputs_hidden": false
    }
   },
   "outputs": [],
   "source": [
    "df_float.shape"
   ]
  },
  {
   "cell_type": "code",
   "execution_count": null,
   "metadata": {
    "_cell_guid": "0fc9fe7a-0db5-4af9-9a8d-9538952ba08d",
    "_uuid": "a6e4b1e5-e4d6-404d-b746-3e8909301ae9",
    "collapsed": false,
    "jupyter": {
     "outputs_hidden": false
    }
   },
   "outputs": [],
   "source": [
    "df_float.isnull().sum()"
   ]
  },
  {
   "cell_type": "code",
   "execution_count": null,
   "metadata": {
    "_cell_guid": "fb565aeb-317a-4a5a-9d30-4a55871cb161",
    "_uuid": "fe202ac4-bfbc-49a8-b3d8-7c829a6ae3f4",
    "collapsed": false,
    "jupyter": {
     "outputs_hidden": false
    }
   },
   "outputs": [],
   "source": [
    "df_float.to_excel('satislar_update.xlsx')"
   ]
  },
  {
   "cell_type": "code",
   "execution_count": null,
   "metadata": {
    "_cell_guid": "ff5a6122-e66f-4aff-971f-e599e84d37a9",
    "_uuid": "88da30e3-71a6-4ef8-8341-849b86e63f8c",
    "collapsed": false,
    "jupyter": {
     "outputs_hidden": false
    }
   },
   "outputs": [],
   "source": [
    "df_float.dtypes"
   ]
  },
  {
   "cell_type": "code",
   "execution_count": null,
   "metadata": {
    "_cell_guid": "b034900b-9fa3-4b10-991b-487c5bb04580",
    "_uuid": "7bc7ee0a-853e-4eae-9e18-ead583661c56",
    "collapsed": false,
    "jupyter": {
     "outputs_hidden": false
    }
   },
   "outputs": [],
   "source": [
    "# df[['SUBTOTAL', 'TAX', 'TOTAL', 'PURCHASEPRICE', 'TP_per_Quantity', \n",
    "    'ST_per_Quantity', 'UK_CPI', 'Turkey_CPI', 'Net_Profit']] = df[['SUBTOTAL', 'TAX', 'TOTAL', 'PURCHASEPRICE', 'TP_per_Quantity', \n",
    "                                                                                                                                    'ST_per_Quantity', 'UK_CPI', 'Turkey_CPI', 'Net_Profit']].round(2)"
   ]
  },
  {
   "cell_type": "code",
   "execution_count": null,
   "metadata": {
    "_cell_guid": "362aa750-36c3-4e46-a969-554e2c058d1d",
    "_uuid": "ba556aff-9250-4b31-848f-2cdff67d9bad",
    "collapsed": false,
    "jupyter": {
     "outputs_hidden": false
    }
   },
   "outputs": [],
   "source": [
    "df.head()"
   ]
  },
  {
   "cell_type": "markdown",
   "metadata": {
    "_cell_guid": "0034d791-de9e-4557-9604-1d4dd6132097",
    "_uuid": "b1b47963-2b05-4558-abe1-1a3d7f3b9fed"
   },
   "source": [
    "## Dropping Extra Process_date features"
   ]
  },
  {
   "cell_type": "markdown",
   "metadata": {
    "_cell_guid": "b4f6602e-907f-4061-9ea8-879b8966a5f5",
    "_uuid": "5bd4e025-2bd1-4af9-9a88-374b1a216bfe"
   },
   "source": [
    "## Processdate ---- 3144 Null Value"
   ]
  },
  {
   "cell_type": "code",
   "execution_count": null,
   "metadata": {
    "_cell_guid": "b610a1b3-deeb-4072-a9c7-514c281b8640",
    "_uuid": "e4ea8eaf-9b48-4583-ae2a-a751b41324e5",
    "collapsed": false,
    "jupyter": {
     "outputs_hidden": false
    }
   },
   "outputs": [],
   "source": [
    "## Uncessary Columns and nulls\n",
    "df.drop(['PROCESSEDDATE_YEAR','PROCESSEDDATE_MONTH','PROCESSEDDATE_DAY',\n",
    "         'PROCESSEDDATE_HOUR','PROCESSEDDATE_DAY_NAME','PROCESSEDDATE_D'],axis=1,inplace=True)"
   ]
  },
  {
   "cell_type": "code",
   "execution_count": null,
   "metadata": {
    "_cell_guid": "41556c81-cddb-48ee-b0db-197db971d72d",
    "_uuid": "de38634a-4b44-42c6-96cc-f57c901e27a6",
    "collapsed": false,
    "jupyter": {
     "outputs_hidden": false
    }
   },
   "outputs": [],
   "source": [
    "df.isnull().sum()"
   ]
  },
  {
   "cell_type": "code",
   "execution_count": null,
   "metadata": {
    "_cell_guid": "5c618997-211d-4183-869b-194b24b8b383",
    "_uuid": "852f854a-78c4-438d-bba4-21ca2528660b",
    "collapsed": false,
    "jupyter": {
     "outputs_hidden": false
    }
   },
   "outputs": [],
   "source": [
    "df.PROCESSEDDATE.fillna(df['DRECEIEVEDDATE'],inplace=True) ## Just not to lose 3144 datas"
   ]
  },
  {
   "cell_type": "code",
   "execution_count": null,
   "metadata": {
    "_cell_guid": "935e7359-8268-4548-a0e8-b60984b8e998",
    "_uuid": "319bf50a-ed58-41a9-b956-ddf3a28b37d7",
    "collapsed": false,
    "jupyter": {
     "outputs_hidden": false
    }
   },
   "outputs": [],
   "source": [
    "df.head()"
   ]
  },
  {
   "cell_type": "code",
   "execution_count": null,
   "metadata": {
    "_cell_guid": "f80548d0-1c40-4ce5-b647-8032c39156a6",
    "_uuid": "fdfb3aa5-ddc0-4324-9759-1b253ac57d52",
    "collapsed": false,
    "jupyter": {
     "outputs_hidden": false
    }
   },
   "outputs": [],
   "source": [
    "df.to_excel('satislar(GPB)v2.xlsx') ### Null ---Processdate--- FILLED"
   ]
  },
  {
   "cell_type": "markdown",
   "metadata": {
    "_cell_guid": "135a2bb7-206d-4907-b622-e7ff135760a4",
    "_uuid": "7bbaa537-cc51-4e63-a082-043cd6a65db3"
   },
   "source": [
    "## Converting Dates"
   ]
  },
  {
   "cell_type": "code",
   "execution_count": null,
   "metadata": {
    "_cell_guid": "1710027d-2990-489e-b77c-a4ad69f0bb37",
    "_uuid": "bc898bbf-2132-4de0-8fa9-11c32fc1806c",
    "collapsed": false,
    "jupyter": {
     "outputs_hidden": false
    }
   },
   "outputs": [],
   "source": [
    "df['DRECEIEVEDDATE'] = pd.to_datetime(df['DRECEIEVEDDATE'])"
   ]
  },
  {
   "cell_type": "markdown",
   "metadata": {
    "_cell_guid": "f8c0bd5e-4319-47d1-abdd-5c1d2ecab0e1",
    "_uuid": "d08455c1-644d-439c-a410-e51097934a09"
   },
   "source": [
    "## Making Visualization"
   ]
  },
  {
   "cell_type": "code",
   "execution_count": null,
   "metadata": {
    "_cell_guid": "e47b69d8-5493-48af-a15a-be1ee649cedc",
    "_uuid": "28d2038d-6056-4ab6-8a34-c14553e3c4f0",
    "collapsed": false,
    "jupyter": {
     "outputs_hidden": false
    }
   },
   "outputs": [],
   "source": [
    "df.head()"
   ]
  },
  {
   "cell_type": "markdown",
   "metadata": {
    "_cell_guid": "53b6c9bd-00cf-48d3-a5a9-466124f2304e",
    "_uuid": "03a5c79d-b8f9-4352-93d3-e49ecdea050d"
   },
   "source": [
    "#### 1) Finding the most attractive time for the customers"
   ]
  },
  {
   "cell_type": "code",
   "execution_count": null,
   "metadata": {
    "_cell_guid": "cd7efb60-a519-4854-9c69-3c3fd21dfe51",
    "_uuid": "46db093b-c277-48cd-9684-56418e7d47fa",
    "collapsed": false,
    "jupyter": {
     "outputs_hidden": false
    }
   },
   "outputs": [],
   "source": [
    "import seaborn as sns\n",
    "import matplotlib.pyplot as plt"
   ]
  },
  {
   "cell_type": "markdown",
   "metadata": {
    "_cell_guid": "85f31c2e-a761-4ab8-9fb7-5ea366a8a78f",
    "_uuid": "12d5560b-d46b-47d4-b129-b1d0fb9b67fb"
   },
   "source": [
    "#### 1.1 Most Ordered Years"
   ]
  },
  {
   "cell_type": "code",
   "execution_count": null,
   "metadata": {
    "_cell_guid": "d19f4bbb-6f4a-4de0-8ffd-c670478a6fc9",
    "_uuid": "2cbf2e15-f38c-4897-83d3-9ea5fc1894b0",
    "collapsed": false,
    "jupyter": {
     "outputs_hidden": false
    }
   },
   "outputs": [],
   "source": [
    "fig,ax = plt.subplots(figsize=(16,9))\n",
    "ax = sns.countplot(data=df,x='DRECEIEVEDDATE_YEAR',order = df['DRECEIEVEDDATE_YEAR'].value_counts().index)\n",
    "ax.bar_label(ax.containers[0]);"
   ]
  },
  {
   "cell_type": "markdown",
   "metadata": {
    "_cell_guid": "2082217e-6a10-43f9-b679-1b3f8d9914ae",
    "_uuid": "05abe811-153f-42ae-a900-7725775a0d31"
   },
   "source": [
    "#### 1.2 The Hours with most orders"
   ]
  },
  {
   "cell_type": "code",
   "execution_count": null,
   "metadata": {
    "_cell_guid": "d2894b42-3475-44da-ac5c-f14f0e101c9a",
    "_uuid": "b0192ac4-16b0-4ecc-988c-57419a044178",
    "collapsed": false,
    "jupyter": {
     "outputs_hidden": false
    }
   },
   "outputs": [],
   "source": [
    "fig,ax = plt.subplots(figsize=(25,13))\n",
    "sns.countplot(data=df,x='DRECEIEVEDDATE_HOUR')\n",
    "sns.lineplot(data=df,x ='DRECEIEVEDDATE_HOUR')\n",
    "ax.bar_label(ax.containers[0]);"
   ]
  },
  {
   "cell_type": "markdown",
   "metadata": {
    "_cell_guid": "90c2bb54-0598-4056-8998-d58a48d37b4a",
    "_uuid": "bd08f14e-c750-43d2-8c7b-78fbde15b5de"
   },
   "source": [
    "#### 1.3 Days of the Week which is the most attractive days for the customers"
   ]
  },
  {
   "cell_type": "code",
   "execution_count": null,
   "metadata": {
    "_cell_guid": "a2f24342-c027-4b7e-8382-789f12985252",
    "_uuid": "8fc07eea-a41f-4186-af9b-c8abe1199d95",
    "collapsed": false,
    "jupyter": {
     "outputs_hidden": false
    }
   },
   "outputs": [],
   "source": [
    "fig,ax = plt.subplots(figsize=(16,9))\n",
    "sns.countplot(data=df,x='DRECEIEVEDDATE_DAY_NAME',order=df['DRECEIEVEDDATE_DAY_NAME'].value_counts().index)\n",
    "ax.bar_label(ax.containers[0]);"
   ]
  },
  {
   "cell_type": "markdown",
   "metadata": {
    "_cell_guid": "9787605e-43ee-45a9-a575-7a42e4cf509b",
    "_uuid": "7bf8b43e-527e-4a26-9025-cd982e7946d0"
   },
   "source": [
    "#### 1.4 The most attractive Month of the year"
   ]
  },
  {
   "cell_type": "code",
   "execution_count": null,
   "metadata": {
    "_cell_guid": "344f2ec1-6178-4492-bbce-bea9669b0471",
    "_uuid": "fb224c13-f2a0-4cd9-a152-2f07a35fe827",
    "collapsed": false,
    "jupyter": {
     "outputs_hidden": false
    }
   },
   "outputs": [],
   "source": [
    "fig,ax = plt.subplots(figsize=(16,9))\n",
    "sns.countplot(data=df,x='DRECEIEVEDDATE_MONTH')\n",
    "ax.bar_label(ax.containers[0]);"
   ]
  },
  {
   "cell_type": "markdown",
   "metadata": {
    "_cell_guid": "5bb17bef-fec3-4dfb-9918-5a2cfa95b96f",
    "_uuid": "e09d7aa8-7069-4ce1-8a94-d6b5033a0862"
   },
   "source": [
    "#### 1.5 The most attractive dailytime for customers"
   ]
  },
  {
   "cell_type": "code",
   "execution_count": null,
   "metadata": {
    "_cell_guid": "be2279a4-e266-49b8-a594-5a41b9054540",
    "_uuid": "15450114-8ffe-4915-a5f0-ce1aee79cc74",
    "collapsed": false,
    "jupyter": {
     "outputs_hidden": false
    }
   },
   "outputs": [],
   "source": [
    "df['DayTime']=df.DayTime.astype('str')"
   ]
  },
  {
   "cell_type": "code",
   "execution_count": null,
   "metadata": {
    "_cell_guid": "65095d45-34fb-413c-b2ab-ddfb7c00689e",
    "_uuid": "f9e0b8ae-8b4b-4e75-81df-2cb1fab368f4",
    "collapsed": false,
    "jupyter": {
     "outputs_hidden": false
    }
   },
   "outputs": [],
   "source": [
    "fig,ax = plt.subplots(figsize=(16,9))\n",
    "sns.countplot(data=df,x='DayTime',order=df['DayTime'].value_counts().index)\n",
    "ax.bar_label(ax.containers[0]);"
   ]
  },
  {
   "cell_type": "markdown",
   "metadata": {
    "_cell_guid": "3b5d3347-bb9b-4dcd-bd11-b474a916ae64",
    "_uuid": "3f9d6288-7637-4d4f-a77d-6ef9575ad6cb"
   },
   "source": [
    "#### 2) Finding the Bestseller Products"
   ]
  },
  {
   "cell_type": "code",
   "execution_count": null,
   "metadata": {
    "_cell_guid": "1a3b987c-3aca-46cf-83c4-5a423d166c44",
    "_uuid": "5ec1ae20-cda0-4ac1-8a35-69870593d69e",
    "collapsed": false,
    "jupyter": {
     "outputs_hidden": false
    }
   },
   "outputs": [],
   "source": [
    "fig,ax = plt.subplots(figsize=(16,9))\n",
    "plt.xticks(rotation=45)\n",
    "sns.countplot(data=df,x='ORDERITEMTITLE',order=df['ORDERITEMTITLE'].value_counts().iloc[:10].index)\n",
    "ax.bar_label(ax.containers[0],rotation=45);"
   ]
  }
 ],
 "metadata": {
  "kernelspec": {
   "display_name": "Python 3 (ipykernel)",
   "language": "python",
   "name": "python3"
  },
  "language_info": {
   "codemirror_mode": {
    "name": "ipython",
    "version": 3
   },
   "file_extension": ".py",
   "mimetype": "text/x-python",
   "name": "python",
   "nbconvert_exporter": "python",
   "pygments_lexer": "ipython3",
   "version": "3.9.15"
  }
 },
 "nbformat": 4,
 "nbformat_minor": 4
}
